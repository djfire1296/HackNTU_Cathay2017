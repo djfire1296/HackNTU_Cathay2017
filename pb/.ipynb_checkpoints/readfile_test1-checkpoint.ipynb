{
 "cells": [
  {
   "cell_type": "markdown",
   "metadata": {
    "deletable": true,
    "editable": true
   },
   "source": [
    "<h1> Set Up </h1>"
   ]
  },
  {
   "cell_type": "code",
   "execution_count": 1,
   "metadata": {
    "collapsed": false,
    "deletable": true,
    "editable": true,
    "scrolled": true
   },
   "outputs": [],
   "source": [
    "import os\n",
    "import math\n",
    "\n",
    "import numpy as np\n",
    "import pandas as pd\n",
    "import matplotlib.pylab as plt"
   ]
  },
  {
   "cell_type": "code",
   "execution_count": 2,
   "metadata": {
    "collapsed": false,
    "deletable": true,
    "editable": true
   },
   "outputs": [],
   "source": [
    "from pyspark import SparkContext\n",
    "from pyspark import SparkConf"
   ]
  },
  {
   "cell_type": "code",
   "execution_count": 3,
   "metadata": {
    "collapsed": false,
    "deletable": true,
    "editable": true
   },
   "outputs": [],
   "source": [
    "sc = SparkContext('local[*]', 'PySpark')"
   ]
  },
  {
   "cell_type": "code",
   "execution_count": 4,
   "metadata": {
    "collapsed": false,
    "deletable": true,
    "editable": true,
    "scrolled": true
   },
   "outputs": [],
   "source": [
    "# spark related\n",
    "from pyspark.sql import DataFrameWriter\n",
    "from pyspark.sql import SQLContext\n",
    "sqlContext = SQLContext(sc)\n",
    "sql = sqlContext.sql"
   ]
  },
  {
   "cell_type": "code",
   "execution_count": 5,
   "metadata": {
    "collapsed": false,
    "deletable": true,
    "editable": true,
    "scrolled": true
   },
   "outputs": [
    {
     "data": {
      "text/plain": [
       "u'local[*]'"
      ]
     },
     "execution_count": 5,
     "metadata": {},
     "output_type": "execute_result"
    }
   ],
   "source": [
    "sc.master"
   ]
  },
  {
   "cell_type": "markdown",
   "metadata": {
    "deletable": true,
    "editable": true
   },
   "source": [
    "<h1> Read Files </h1>"
   ]
  },
  {
   "cell_type": "code",
   "execution_count": 7,
   "metadata": {
    "collapsed": true,
    "deletable": true,
    "editable": true
   },
   "outputs": [],
   "source": [
    "profile_path = os.path.abspath('../dataset/profile/**/*.csv')"
   ]
  },
  {
   "cell_type": "code",
   "execution_count": 8,
   "metadata": {
    "collapsed": false,
    "deletable": true,
    "editable": true
   },
   "outputs": [
    {
     "data": {
      "text/plain": [
       "[u'1,1871111837,F,D,181903,F,373933,3320438400,1217.1769900503969,528.7309192220683,Y,Y,N,N,3696969600',\n",
       " u'2,1208855837,M,C,68383,F,72631,3688502400,1717.8806412199986,3.3682296721720717,Y,N,Y,N,3696969600',\n",
       " u'3,2880263837,M,E,457653,F,93331,3692304000,1216.7107394786008,307.4304767295353,N,N,N,Y,3696969600',\n",
       " u'4,1334999837,M,L,74257,I,248503,3647980800,1414.86660231857,888.3791238333672,Y,N,N,Y,3696969600',\n",
       " u'5,2817191837,F,A,45583,I,895863,3622406400,1388.8557936778625,642.1109125464978,Y,Y,N,Y,3696969600']"
      ]
     },
     "execution_count": 8,
     "metadata": {},
     "output_type": "execute_result"
    }
   ],
   "source": [
    "profile_txtRDD = sc.textFile(profile_path)\n",
    "profile_txtRDD.take(5)"
   ]
  },
  {
   "cell_type": "code",
   "execution_count": 9,
   "metadata": {
    "collapsed": false,
    "deletable": true,
    "editable": true
   },
   "outputs": [
    {
     "data": {
      "text/plain": [
       "100"
      ]
     },
     "execution_count": 9,
     "metadata": {},
     "output_type": "execute_result"
    }
   ],
   "source": [
    "profile_txtRDD.count()"
   ]
  },
  {
   "cell_type": "code",
   "execution_count": 10,
   "metadata": {
    "collapsed": false,
    "deletable": true,
    "editable": true
   },
   "outputs": [
    {
     "name": "stdout",
     "output_type": "stream",
     "text": [
      "+-----------+----------+------+-----------+------------+------------+-------------+----------+------------------+------------------+----------------+---------+------------+-----------+--------------+\n",
      "|customer_id|birth_time|gender|contact_loc|contact_code|register_loc|register_code|start_time|               aum|        net_profit|credit_card_flag|loan_flag|deposit_flag|wealth_flag|partition_time|\n",
      "+-----------+----------+------+-----------+------------+------------+-------------+----------+------------------+------------------+----------------+---------+------------+-----------+--------------+\n",
      "|          1|1871111837|     F|          D|      181903|           F|       373933|3320438400|1217.1769900503969| 528.7309192220683|               Y|        Y|           N|          N|    3696969600|\n",
      "|          2|1208855837|     M|          C|       68383|           F|        72631|3688502400|1717.8806412199986|3.3682296721720717|               Y|        N|           Y|          N|    3696969600|\n",
      "|          3|2880263837|     M|          E|      457653|           F|        93331|3692304000|1216.7107394786008| 307.4304767295353|               N|        N|           N|          Y|    3696969600|\n",
      "|          4|1334999837|     M|          L|       74257|           I|       248503|3647980800|  1414.86660231857| 888.3791238333672|               Y|        N|           N|          Y|    3696969600|\n",
      "|          5|2817191837|     F|          A|       45583|           I|       895863|3622406400|1388.8557936778625| 642.1109125464978|               Y|        Y|           N|          Y|    3696969600|\n",
      "+-----------+----------+------+-----------+------------+------------+-------------+----------+------------------+------------------+----------------+---------+------------+-----------+--------------+\n",
      "only showing top 5 rows\n",
      "\n"
     ]
    }
   ],
   "source": [
    "from pyspark.sql.types import *\n",
    "\n",
    "fields = [\n",
    "    StructField('customer_id', StringType(), False),\n",
    "    StructField('birth_time', LongType(), True),\n",
    "    StructField('gender', StringType(), True),\n",
    "    StructField('contact_loc', StringType(), True),\n",
    "    StructField('contact_code', StringType(), True),\n",
    "    StructField('register_loc', StringType(), True),\n",
    "    StructField('register_code', StringType(), True),\n",
    "    StructField('start_time', LongType(), True),\n",
    "    StructField('aum', DoubleType(), True),\n",
    "    StructField('net_profit', DoubleType(), True),\n",
    "    StructField('credit_card_flag', StringType(), True),\n",
    "    StructField('loan_flag', StringType(), True),\n",
    "    StructField('deposit_flag', StringType(), True),\n",
    "    StructField('wealth_flag', StringType(), True),\n",
    "    StructField('partition_time', LongType(), True)\n",
    "]\n",
    "\n",
    "schema = StructType(fields)\n",
    "\n",
    "def process_profile_line(l):\n",
    "    p = l.split(',')\n",
    "    # for LongType\n",
    "    for i in [1, 7, 14]:\n",
    "        p[i] = int(p[i])\n",
    "    # for DoubleType\n",
    "    for i in [8, 9]:\n",
    "        p[i] = float(p[i])\n",
    "    return p\n",
    "\n",
    "profile_df = profile_txtRDD \\\n",
    "    .map(process_profile_line) \\\n",
    "    .toDF(schema=schema)\n",
    "    \n",
    "profile_df.show(5)"
   ]
  },
  {
   "cell_type": "code",
   "execution_count": 11,
   "metadata": {
    "collapsed": false,
    "deletable": true,
    "editable": true
   },
   "outputs": [
    {
     "data": {
      "text/plain": [
       "100"
      ]
     },
     "execution_count": 11,
     "metadata": {},
     "output_type": "execute_result"
    }
   ],
   "source": [
    "profile_df.count()"
   ]
  },
  {
   "cell_type": "code",
   "execution_count": 12,
   "metadata": {
    "collapsed": false,
    "deletable": true,
    "editable": true
   },
   "outputs": [
    {
     "data": {
      "text/plain": [
       "pyspark.sql.dataframe.DataFrame"
      ]
     },
     "execution_count": 12,
     "metadata": {},
     "output_type": "execute_result"
    }
   ],
   "source": [
    "type(profile_df)"
   ]
  },
  {
   "cell_type": "code",
   "execution_count": 13,
   "metadata": {
    "collapsed": false,
    "deletable": true,
    "editable": true
   },
   "outputs": [
    {
     "name": "stdout",
     "output_type": "stream",
     "text": [
      "11\n"
     ]
    }
   ],
   "source": [
    "contact_locnum = profile_df.select('contact_loc').rdd.distinct().count()\n",
    "contact_loclist = profile_df.select('contact_loc').rdd.distinct().collect()\n",
    "print contact_locnum"
   ]
  },
  {
   "cell_type": "code",
   "execution_count": 14,
   "metadata": {
    "collapsed": false,
    "deletable": true,
    "editable": true
   },
   "outputs": [
    {
     "data": {
      "text/plain": [
       "[Row(contact_loc=u'B'),\n",
       " Row(contact_loc=u'H'),\n",
       " Row(contact_loc=u'D'),\n",
       " Row(contact_loc=u'J'),\n",
       " Row(contact_loc=u'F'),\n",
       " Row(contact_loc=u'L'),\n",
       " Row(contact_loc=u'K'),\n",
       " Row(contact_loc=u'C'),\n",
       " Row(contact_loc=u'A'),\n",
       " Row(contact_loc=u'G'),\n",
       " Row(contact_loc=u'E')]"
      ]
     },
     "execution_count": 14,
     "metadata": {},
     "output_type": "execute_result"
    }
   ],
   "source": [
    "contact_loclist"
   ]
  },
  {
   "cell_type": "code",
   "execution_count": 15,
   "metadata": {
    "collapsed": false,
    "deletable": true,
    "editable": true
   },
   "outputs": [],
   "source": [
    "clRDD = profile_df.select('contact_loc').rdd.map(lambda loc: (loc.contact_loc, 1)).reduceByKey(lambda x, y: x+y).sortByKey()"
   ]
  },
  {
   "cell_type": "code",
   "execution_count": 16,
   "metadata": {
    "collapsed": true,
    "deletable": true,
    "editable": true
   },
   "outputs": [],
   "source": [
    "cllist = clRDD.collect()"
   ]
  },
  {
   "cell_type": "code",
   "execution_count": 17,
   "metadata": {
    "collapsed": false,
    "deletable": true,
    "editable": true
   },
   "outputs": [
    {
     "data": {
      "text/plain": [
       "[(u'A', 4),\n",
       " (u'B', 6),\n",
       " (u'C', 8),\n",
       " (u'D', 8),\n",
       " (u'E', 8),\n",
       " (u'F', 4),\n",
       " (u'G', 12),\n",
       " (u'H', 10),\n",
       " (u'J', 16),\n",
       " (u'K', 8),\n",
       " (u'L', 16)]"
      ]
     },
     "execution_count": 17,
     "metadata": {},
     "output_type": "execute_result"
    }
   ],
   "source": [
    "cllist"
   ]
  },
  {
   "cell_type": "code",
   "execution_count": 18,
   "metadata": {
    "collapsed": false,
    "deletable": true,
    "editable": true
   },
   "outputs": [],
   "source": [
    "clRDDnum = clRDD.aggregate(0, lambda x, y: x+y[1], lambda x, y: x+y) == 100"
   ]
  },
  {
   "cell_type": "code",
   "execution_count": 19,
   "metadata": {
    "collapsed": false,
    "deletable": true,
    "editable": true
   },
   "outputs": [
    {
     "data": {
      "text/plain": [
       "bool"
      ]
     },
     "execution_count": 19,
     "metadata": {},
     "output_type": "execute_result"
    }
   ],
   "source": [
    "type(clRDDnum)"
   ]
  },
  {
   "cell_type": "code",
   "execution_count": 20,
   "metadata": {
    "collapsed": false,
    "deletable": true,
    "editable": true
   },
   "outputs": [
    {
     "data": {
      "text/plain": [
       "True"
      ]
     },
     "execution_count": 20,
     "metadata": {},
     "output_type": "execute_result"
    }
   ],
   "source": [
    "clRDDnum"
   ]
  },
  {
   "cell_type": "code",
   "execution_count": 21,
   "metadata": {
    "collapsed": false,
    "deletable": true,
    "editable": true
   },
   "outputs": [],
   "source": [
    "clidRDD = profile_df.select('contact_loc', 'customer_id').rdd\\\n",
    "        .map(lambda df: (df.contact_loc, [df.customer_id])).reduceByKey(lambda x, y: x+y)"
   ]
  },
  {
   "cell_type": "code",
   "execution_count": 22,
   "metadata": {
    "collapsed": false,
    "deletable": true,
    "editable": true
   },
   "outputs": [
    {
     "data": {
      "text/plain": [
       "11"
      ]
     },
     "execution_count": 22,
     "metadata": {},
     "output_type": "execute_result"
    }
   ],
   "source": [
    "clidRDD.count()"
   ]
  },
  {
   "cell_type": "code",
   "execution_count": 23,
   "metadata": {
    "collapsed": false,
    "deletable": true,
    "editable": true
   },
   "outputs": [
    {
     "data": {
      "text/plain": [
       "(u'A', [u'5', u'17', u'30', u'42'])"
      ]
     },
     "execution_count": 23,
     "metadata": {},
     "output_type": "execute_result"
    }
   ],
   "source": [
    "clidRDD.first()"
   ]
  },
  {
   "cell_type": "code",
   "execution_count": 24,
   "metadata": {
    "collapsed": false,
    "deletable": true,
    "editable": true
   },
   "outputs": [],
   "source": [
    "clidlist = clidRDD.collect()"
   ]
  },
  {
   "cell_type": "code",
   "execution_count": 25,
   "metadata": {
    "collapsed": false,
    "deletable": true,
    "editable": true
   },
   "outputs": [
    {
     "name": "stdout",
     "output_type": "stream",
     "text": [
      "A\n",
      "set([u'42', u'30', u'5', u'17'])\n",
      "C\n",
      "set([u'39', u'27', u'15', u'14', u'28', u'40', u'3', u'2'])\n",
      "E\n",
      "set([u'15', u'19', u'32', u'44', u'28', u'40', u'3', u'7'])\n",
      "K\n",
      "set([u'11', u'20', u'48', u'23', u'33', u'45', u'36', u'8'])\n",
      "G\n",
      "set([u'10', u'30', u'20', u'22', u'17', u'33', u'47', u'45', u'42', u'35', u'5', u'8'])\n",
      "B\n",
      "set([u'25', u'18', u'31', u'50', u'43', u'6'])\n",
      "D\n",
      "set([u'1', u'13', u'38', u'26'])\n",
      "F\n",
      "set([u'24', u'12', u'37', u'49'])\n",
      "H\n",
      "set([u'25', u'21', u'46', u'18', u'31', u'43', u'34', u'6', u'9', u'50'])\n",
      "J\n",
      "set([u'24', u'10', u'39', u'12', u'14', u'22', u'49', u'47', u'16', u'37', u'29', u'35', u'41', u'27', u'2', u'4'])\n",
      "L\n",
      "set([u'11', u'21', u'48', u'16', u'19', u'32', u'44', u'23', u'29', u'41', u'46', u'36', u'4', u'7', u'9', u'34'])\n"
     ]
    }
   ],
   "source": [
    "for i in xrange(len(clidlist)):\n",
    "    print clidlist[i][0]\n",
    "    print set(clidlist[i][1])"
   ]
  },
  {
   "cell_type": "code",
   "execution_count": 26,
   "metadata": {
    "collapsed": false,
    "deletable": true,
    "editable": true
   },
   "outputs": [
    {
     "name": "stdout",
     "output_type": "stream",
     "text": [
      "96\n"
     ]
    }
   ],
   "source": [
    "tol = 0\n",
    "for i in xrange(len(clidlist)):\n",
    "    tol += len(list(set(clidlist[i][1])))\n",
    "\n",
    "print tol"
   ]
  },
  {
   "cell_type": "code",
   "execution_count": 71,
   "metadata": {
    "collapsed": true,
    "deletable": true,
    "editable": true
   },
   "outputs": [],
   "source": [
    "clccRDD = profile_df.select('contact_loc', 'contact_code').rdd.map(lambda df: (df.contact_loc, [df.contact_code]))\\\n",
    "                    .reduceByKey(lambda x, y: x+y).map(lambda (x, y): (x, list(set(y))))"
   ]
  },
  {
   "cell_type": "code",
   "execution_count": 72,
   "metadata": {
    "collapsed": false,
    "deletable": true,
    "editable": true
   },
   "outputs": [
    {
     "data": {
      "text/plain": [
       "(u'A', [u'45583'])"
      ]
     },
     "execution_count": 72,
     "metadata": {},
     "output_type": "execute_result"
    }
   ],
   "source": [
    "clccRDD.first()"
   ]
  },
  {
   "cell_type": "code",
   "execution_count": 73,
   "metadata": {
    "collapsed": false,
    "deletable": true,
    "editable": true
   },
   "outputs": [
    {
     "data": {
      "text/plain": [
       "11"
      ]
     },
     "execution_count": 73,
     "metadata": {},
     "output_type": "execute_result"
    }
   ],
   "source": [
    "clccRDD.count()"
   ]
  },
  {
   "cell_type": "code",
   "execution_count": 81,
   "metadata": {
    "collapsed": false,
    "deletable": true,
    "editable": true
   },
   "outputs": [
    {
     "data": {
      "text/plain": [
       "25"
      ]
     },
     "execution_count": 81,
     "metadata": {},
     "output_type": "execute_result"
    }
   ],
   "source": [
    "clccRDD.aggregate(0, lambda x, y: x + len(y[1]), lambda x, y: x+y)"
   ]
  },
  {
   "cell_type": "code",
   "execution_count": 77,
   "metadata": {
    "collapsed": false,
    "deletable": true,
    "editable": true
   },
   "outputs": [],
   "source": [
    "ccRDD = profile_df.select('contact_code').distinct().collect()"
   ]
  },
  {
   "cell_type": "code",
   "execution_count": 78,
   "metadata": {
    "collapsed": false,
    "deletable": true,
    "editable": true
   },
   "outputs": [
    {
     "data": {
      "text/plain": [
       "[Row(contact_code=u'530713'),\n",
       " Row(contact_code=u'922561'),\n",
       " Row(contact_code=u'468541'),\n",
       " Row(contact_code=u'437583'),\n",
       " Row(contact_code=u'109893'),\n",
       " Row(contact_code=u'354621'),\n",
       " Row(contact_code=u'74257'),\n",
       " Row(contact_code=u'230881'),\n",
       " Row(contact_code=u'53593'),\n",
       " Row(contact_code=u'124963'),\n",
       " Row(contact_code=u'159601'),\n",
       " Row(contact_code=u'698061'),\n",
       " Row(contact_code=u'843643'),\n",
       " Row(contact_code=u'647221'),\n",
       " Row(contact_code=u'45583'),\n",
       " Row(contact_code=u'180201'),\n",
       " Row(contact_code=u'32581'),\n",
       " Row(contact_code=u'68383'),\n",
       " Row(contact_code=u'215761'),\n",
       " Row(contact_code=u'115261'),\n",
       " Row(contact_code=u'358203'),\n",
       " Row(contact_code=u'457653'),\n",
       " Row(contact_code=u'181903'),\n",
       " Row(contact_code=u'48181')]"
      ]
     },
     "execution_count": 78,
     "metadata": {},
     "output_type": "execute_result"
    }
   ],
   "source": [
    "ccRDD"
   ]
  },
  {
   "cell_type": "code",
   "execution_count": 79,
   "metadata": {
    "collapsed": false,
    "deletable": true,
    "editable": true
   },
   "outputs": [
    {
     "data": {
      "text/plain": [
       "24"
      ]
     },
     "execution_count": 79,
     "metadata": {},
     "output_type": "execute_result"
    }
   ],
   "source": [
    "len(ccRDD)"
   ]
  },
  {
   "cell_type": "code",
   "execution_count": 80,
   "metadata": {
    "collapsed": false,
    "deletable": true,
    "editable": true
   },
   "outputs": [
    {
     "data": {
      "text/plain": [
       "[(u'A', [u'45583']),\n",
       " (u'C', [u'68383', u'437583']),\n",
       " (u'E', [u'468541', u'457653']),\n",
       " (u'K', [u'843643', u'109893']),\n",
       " (u'G', [u'230881', u'180201', u'215761']),\n",
       " (u'B', [u'115261', u'698061']),\n",
       " (u'D', [u'181903']),\n",
       " (u'F', [u'647221']),\n",
       " (u'H', [u'159601', u'922561', u'530713']),\n",
       " (u'J', [u'32581', u'48181', u'124963', u'457653']),\n",
       " (u'L', [u'74257', u'53593', u'358203', u'354621'])]"
      ]
     },
     "execution_count": 80,
     "metadata": {},
     "output_type": "execute_result"
    }
   ],
   "source": [
    "clccRDD.collect()"
   ]
  },
  {
   "cell_type": "code",
   "execution_count": 83,
   "metadata": {
    "collapsed": true,
    "deletable": true,
    "editable": true
   },
   "outputs": [],
   "source": [
    "clccfRDD = profile_df.select('contact_loc', 'contact_code').rdd.map(lambda df: (df.contact_code, [df.contact_loc]))\\\n",
    "                    .reduceByKey(lambda x, y: x+y).map(lambda (x, y): (x, list(set(y))))\\\n",
    "                    .filter(lambda (x, y): len(y) > 1)"
   ]
  },
  {
   "cell_type": "code",
   "execution_count": 84,
   "metadata": {
    "collapsed": false,
    "deletable": true,
    "editable": true
   },
   "outputs": [
    {
     "data": {
      "text/plain": [
       "1"
      ]
     },
     "execution_count": 84,
     "metadata": {},
     "output_type": "execute_result"
    }
   ],
   "source": [
    "clccfRDD.count()"
   ]
  },
  {
   "cell_type": "code",
   "execution_count": 85,
   "metadata": {
    "collapsed": false,
    "deletable": true,
    "editable": true
   },
   "outputs": [
    {
     "data": {
      "text/plain": [
       "(u'457653', [u'J', u'E'])"
      ]
     },
     "execution_count": 85,
     "metadata": {},
     "output_type": "execute_result"
    }
   ],
   "source": [
    "clccfRDD.first()"
   ]
  },
  {
   "cell_type": "code",
   "execution_count": null,
   "metadata": {
    "collapsed": true,
    "deletable": true,
    "editable": true
   },
   "outputs": [],
   "source": []
  },
  {
   "cell_type": "code",
   "execution_count": null,
   "metadata": {
    "collapsed": true,
    "deletable": true,
    "editable": true
   },
   "outputs": [],
   "source": []
  },
  {
   "cell_type": "markdown",
   "metadata": {
    "deletable": true,
    "editable": true
   },
   "source": [
    "<h1> ATM </h1>"
   ]
  },
  {
   "cell_type": "code",
   "execution_count": 27,
   "metadata": {
    "collapsed": true,
    "deletable": true,
    "editable": true
   },
   "outputs": [],
   "source": [
    "import json\n",
    "\n",
    "fields = [\n",
    "    StructField('actor_type', StringType(), False),\n",
    "    StructField('actor_id', StringType(), True),\n",
    "    StructField('action_type', StringType(), True),\n",
    "    StructField('action_time', LongType(), True),\n",
    "    StructField('object_type', StringType(), True),\n",
    "    StructField('object_id', StringType(), True),\n",
    "    StructField('channel_type', StringType(), True),\n",
    "    StructField('channel_id', StringType(), True),\n",
    "    StructField('attrs', StringType(), True),\n",
    "    StructField('theme', StringType(), True),\n",
    "    StructField('partition_time', LongType(), True)\n",
    "]\n",
    "\n",
    "atmschema = StructType(fields)"
   ]
  },
  {
   "cell_type": "code",
   "execution_count": 28,
   "metadata": {
    "collapsed": true,
    "deletable": true,
    "editable": true
   },
   "outputs": [],
   "source": [
    "def process_profile_line(l):\n",
    "    p = l.split(',')\n",
    "    # pre\n",
    "    pre_fields = p[:8]\n",
    "    pre_fields[3] = int(pre_fields[3])\n",
    "    # post\n",
    "    post_fields = p[-2:]\n",
    "    post_fields[-1] = int(post_fields[-1])\n",
    "    # attrs\n",
    "    attrs = json.loads(','.join(p[8:-2]))\n",
    "    # concat fields\n",
    "    fields = pre_fields + [attrs] + post_fields\n",
    "    return fields"
   ]
  },
  {
   "cell_type": "code",
   "execution_count": 29,
   "metadata": {
    "collapsed": false,
    "deletable": true,
    "editable": true
   },
   "outputs": [
    {
     "name": "stdout",
     "output_type": "stream",
     "text": [
      "+-----------+--------+-----------+-----------+-----------+--------------------+------------+--------------------+--------------------+-----+--------------+\n",
      "| actor_type|actor_id|action_type|action_time|object_type|           object_id|channel_type|          channel_id|               attrs|theme|partition_time|\n",
      "+-----------+--------+-----------+-----------+-----------+--------------------+------------+--------------------+--------------------+-----+--------------+\n",
      "|customer_id|      17|    inquire| 3696970704|saving_acct|MJQXLDJMQQOYAPFBBPBS|         ATM|NCZHYDSTABCUAXLYJLQZ|{\"action\": {\"txn_...|  atm|    3696969600|\n",
      "|customer_id|      42|    inquire| 3696970704|saving_acct|MJQXLDJMQQOYAPFBBPBS|         ATM|NCZHYDSTABCUAXLYJLQZ|{\"action\": {\"txn_...|  atm|    3696969600|\n",
      "|customer_id|       2|    inquire| 3696973691|saving_acct|NQVSLAHSTIYMZFTFVPBH|         ATM|HFJXJQTXPAMHUNCEMXBC|{\"action\": {\"txn_...|  atm|    3696969600|\n",
      "|customer_id|      27|    inquire| 3696973691|saving_acct|NQVSLAHSTIYMZFTFVPBH|         ATM|HFJXJQTXPAMHUNCEMXBC|{\"action\": {\"txn_...|  atm|    3696969600|\n",
      "|customer_id|      10|    inquire| 3696975735|saving_acct|CASVPTKLPAPEFWMOOGQX|         ATM|MVRVMGCBZADXPDFCGNSA|{\"action\": {\"txn_...|  atm|    3696969600|\n",
      "+-----------+--------+-----------+-----------+-----------+--------------------+------------+--------------------+--------------------+-----+--------------+\n",
      "only showing top 5 rows\n",
      "\n"
     ]
    }
   ],
   "source": [
    "atm_df = sc.textFile(os.path.abspath('../dataset/atm/**/*.csv')) \\\n",
    "    .map(process_profile_line) \\\n",
    "    .toDF(schema=atmschema)\n",
    "\n",
    "atm_df.show(5)"
   ]
  },
  {
   "cell_type": "code",
   "execution_count": 30,
   "metadata": {
    "collapsed": false,
    "deletable": true,
    "editable": true
   },
   "outputs": [
    {
     "data": {
      "text/plain": [
       "[{u'action': {u'trans_type': u'trans_out',\n",
       "   u'txn_amt': 0.0,\n",
       "   u'txn_fee_amt': 0.0},\n",
       "  u'channel': {u'address_zipcode': 601401, u'machine_bank_code': u'C_bank'},\n",
       "  u'object': {u'target_acct_nbr': u'UMOTEPKACILAPBIKOYHZ',\n",
       "   u'target_bank_code': u'B_bank'}},\n",
       " {u'action': {u'trans_type': u'trans_out',\n",
       "   u'txn_amt': 0.0,\n",
       "   u'txn_fee_amt': 0.0},\n",
       "  u'channel': {u'address_zipcode': 601401, u'machine_bank_code': u'C_bank'},\n",
       "  u'object': {u'target_acct_nbr': u'UMOTEPKACILAPBIKOYHZ',\n",
       "   u'target_bank_code': u'B_bank'}},\n",
       " {u'action': {u'trans_type': u'trans_out',\n",
       "   u'txn_amt': 0.0,\n",
       "   u'txn_fee_amt': 0.0},\n",
       "  u'channel': {u'address_zipcode': 97657, u'machine_bank_code': u'Cathay'},\n",
       "  u'object': {u'target_acct_nbr': u'INYTRNQEOMRLSGZWQPOD',\n",
       "   u'target_bank_code': u'A_bank'}},\n",
       " {u'action': {u'trans_type': u'trans_out',\n",
       "   u'txn_amt': 0.0,\n",
       "   u'txn_fee_amt': 0.0},\n",
       "  u'channel': {u'address_zipcode': 97657, u'machine_bank_code': u'Cathay'},\n",
       "  u'object': {u'target_acct_nbr': u'INYTRNQEOMRLSGZWQPOD',\n",
       "   u'target_bank_code': u'A_bank'}},\n",
       " {u'action': {u'trans_type': u'trans_out',\n",
       "   u'txn_amt': 0.0,\n",
       "   u'txn_fee_amt': 0.0},\n",
       "  u'channel': {u'address_zipcode': 196693, u'machine_bank_code': u'Cathay'},\n",
       "  u'object': {u'target_acct_nbr': u'VSMBVWNVVTZPPLIXOXOS',\n",
       "   u'target_bank_code': u'B_bank'}},\n",
       " {u'action': {u'trans_type': u'trans_out',\n",
       "   u'txn_amt': 0.0,\n",
       "   u'txn_fee_amt': 0.0},\n",
       "  u'channel': {u'address_zipcode': 196693, u'machine_bank_code': u'Cathay'},\n",
       "  u'object': {u'target_acct_nbr': u'VSMBVWNVVTZPPLIXOXOS',\n",
       "   u'target_bank_code': u'B_bank'}},\n",
       " {u'action': {u'trans_type': u'trans_out',\n",
       "   u'txn_amt': 629.9372984121334,\n",
       "   u'txn_fee_amt': 15.0},\n",
       "  u'channel': {u'address_zipcode': 35911, u'machine_bank_code': u'Cathay'},\n",
       "  u'object': {u'target_acct_nbr': u'HHWIJCFKFPUOGPLNXJGY',\n",
       "   u'target_bank_code': u'Cathay'}},\n",
       " {u'action': {u'trans_type': u'trans_out',\n",
       "   u'txn_amt': 629.9372984121334,\n",
       "   u'txn_fee_amt': 15.0},\n",
       "  u'channel': {u'address_zipcode': 35911, u'machine_bank_code': u'Cathay'},\n",
       "  u'object': {u'target_acct_nbr': u'HHWIJCFKFPUOGPLNXJGY',\n",
       "   u'target_bank_code': u'Cathay'}},\n",
       " {u'action': {u'trans_type': u'trans_in',\n",
       "   u'txn_amt': 1319.2699094815107,\n",
       "   u'txn_fee_amt': 15.0},\n",
       "  u'channel': {u'address_zipcode': 297571, u'machine_bank_code': u'Cathay'},\n",
       "  u'object': {u'target_acct_nbr': u'FCRPLRBEQQVWJQWUBLZT',\n",
       "   u'target_bank_code': u'Cathay'}},\n",
       " {u'action': {u'trans_type': u'trans_in',\n",
       "   u'txn_amt': 1319.2699094815107,\n",
       "   u'txn_fee_amt': 15.0},\n",
       "  u'channel': {u'address_zipcode': 297571, u'machine_bank_code': u'Cathay'},\n",
       "  u'object': {u'target_acct_nbr': u'FCRPLRBEQQVWJQWUBLZT',\n",
       "   u'target_bank_code': u'Cathay'}}]"
      ]
     },
     "execution_count": 30,
     "metadata": {},
     "output_type": "execute_result"
    }
   ],
   "source": [
    "import json\n",
    "\n",
    "# return to RDD for unstructured data\n",
    "atm_attrs = atm_df.select(\"attrs\").rdd.map(lambda r: r.attrs).map(lambda x: json.loads(x))\n",
    "atm_attrs.take(10)"
   ]
  },
  {
   "cell_type": "code",
   "execution_count": 31,
   "metadata": {
    "collapsed": false,
    "deletable": true,
    "editable": true
   },
   "outputs": [
    {
     "data": {
      "text/plain": [
       "pyspark.rdd.PipelinedRDD"
      ]
     },
     "execution_count": 31,
     "metadata": {},
     "output_type": "execute_result"
    }
   ],
   "source": [
    "type(atm_attrs)"
   ]
  },
  {
   "cell_type": "code",
   "execution_count": 32,
   "metadata": {
    "collapsed": true,
    "deletable": true,
    "editable": true
   },
   "outputs": [],
   "source": [
    "atm_Transtyp = atm_attrs.map(lambda atm: atm['action']['trans_type']).distinct()"
   ]
  },
  {
   "cell_type": "code",
   "execution_count": 33,
   "metadata": {
    "collapsed": false,
    "deletable": true,
    "editable": true
   },
   "outputs": [
    {
     "data": {
      "text/plain": [
       "2"
      ]
     },
     "execution_count": 33,
     "metadata": {},
     "output_type": "execute_result"
    }
   ],
   "source": [
    "atm_Transtyp.count()"
   ]
  },
  {
   "cell_type": "code",
   "execution_count": 35,
   "metadata": {
    "collapsed": false,
    "deletable": true,
    "editable": true
   },
   "outputs": [
    {
     "data": {
      "text/plain": [
       "[u'trans_in', u'trans_out']"
      ]
     },
     "execution_count": 35,
     "metadata": {},
     "output_type": "execute_result"
    }
   ],
   "source": [
    "# atm action: trans_type\n",
    "atm_Transtyp.take(5)"
   ]
  },
  {
   "cell_type": "code",
   "execution_count": 56,
   "metadata": {
    "collapsed": false,
    "deletable": true,
    "editable": true
   },
   "outputs": [],
   "source": [
    "atm_checkoneone = atm_attrs\\\n",
    "                    .map(lambda atm: (atm['channel']['address_zipcode'], [atm['object']['target_acct_nbr']]))\\\n",
    "                    .reduceByKey(lambda x, y: x+y)\\\n",
    "                    .map(lambda (x, y): (x, list(set(y))))\\\n",
    "                    .filter(lambda (x, y): len(y) > 1)"
   ]
  },
  {
   "cell_type": "code",
   "execution_count": 57,
   "metadata": {
    "collapsed": false,
    "deletable": true,
    "editable": true
   },
   "outputs": [
    {
     "data": {
      "text/plain": [
       "263"
      ]
     },
     "execution_count": 57,
     "metadata": {},
     "output_type": "execute_result"
    }
   ],
   "source": [
    "atm_checkoneone.count()"
   ]
  },
  {
   "cell_type": "code",
   "execution_count": 38,
   "metadata": {
    "collapsed": false,
    "deletable": true,
    "editable": true
   },
   "outputs": [
    {
     "data": {
      "text/plain": [
       "1934"
      ]
     },
     "execution_count": 38,
     "metadata": {},
     "output_type": "execute_result"
    }
   ],
   "source": [
    "atm_df.count()"
   ]
  },
  {
   "cell_type": "code",
   "execution_count": 62,
   "metadata": {
    "collapsed": false,
    "deletable": true,
    "editable": true
   },
   "outputs": [
    {
     "data": {
      "text/plain": [
       "[(639201,\n",
       "  [u'HSLPVHYXNGOVNEDGKQHU',\n",
       "   u'CJVKXSVWOPNWNNWQFTTM',\n",
       "   u'MMYNHASAFFRGVQSGRJQC',\n",
       "   u'AHBPWQJTJNZVHDJSRKCK']),\n",
       " (1001001,\n",
       "  [u'SJOEXYDEFCZFIDFMTMKH', u'SVJXDAQDCKJGKVUXFOXN', u'AKNCRIQOBFDUWOLWYQMA']),\n",
       " (951601, [u'UHEROBCXPSWOXNNVTVMB', u'SSRDJUNVPHIQLSVZKPCU']),\n",
       " (30801, [u'KWUISBDPUQFRPTKAVBUR', u'IJJBSECHUCRVFCFWGSHL']),\n",
       " (359401,\n",
       "  [u'NOTHPMUBNXABPPLHJGWJ', u'SOYMOYMHFXNXCVHGJCFO', u'HLQGQZEYGSQMYOFDPMWM']),\n",
       " (679801,\n",
       "  [u'QYFXTYSIPPCASAKROGAO',\n",
       "   u'RHLFXECKYSZJCMGXLDRI',\n",
       "   u'GWOGQWWHEDFGHWLYTJMT',\n",
       "   u'GEYKRRODOELOYADBCRXX']),\n",
       " (601401,\n",
       "  [u'UMOTEPKACILAPBIKOYHZ', u'SUUAFAUJZQEZMGPBMOEC', u'SEXNPUJUBCFCBHFGJIIN']),\n",
       " (40201, [u'YLJXSOWXSFUSSVECDKIJ', u'NMAQGJPFDUEDMBQKFLZP']),\n",
       " (858403, [u'SWAHICHUUWSEXUMRDZAW', u'XXUPPPYKAADBXDYQJYMT']),\n",
       " (106603, [u'BXEZFXOVEXEQKYYKAVAH', u'DBHLOMGFRHOOYZEDGVVD'])]"
      ]
     },
     "execution_count": 62,
     "metadata": {},
     "output_type": "execute_result"
    }
   ],
   "source": [
    "atm_checkoneone.take(10)"
   ]
  },
  {
   "cell_type": "code",
   "execution_count": 60,
   "metadata": {
    "collapsed": true,
    "deletable": true,
    "editable": true
   },
   "outputs": [],
   "source": [
    "# check the data validation which every atm just located in one place\n",
    "atm_checkoneonea = atm_attrs\\\n",
    "                    .map(lambda atm: (atm['object']['target_acct_nbr'], [atm['channel']['address_zipcode']]))\\\n",
    "                    .reduceByKey(lambda x, y: x+y)\\\n",
    "                    .map(lambda (x, y): (x, list(set(y))))\\\n",
    "                    .filter(lambda (x, y): len(y) > 1)"
   ]
  },
  {
   "cell_type": "code",
   "execution_count": 61,
   "metadata": {
    "collapsed": false,
    "deletable": true,
    "editable": true
   },
   "outputs": [
    {
     "data": {
      "text/plain": [
       "0"
      ]
     },
     "execution_count": 61,
     "metadata": {},
     "output_type": "execute_result"
    }
   ],
   "source": [
    "atm_checkoneonea.count()"
   ]
  },
  {
   "cell_type": "code",
   "execution_count": 86,
   "metadata": {
    "collapsed": true,
    "deletable": true,
    "editable": true
   },
   "outputs": [],
   "source": [
    "atm_loc = atm_attrs.map(lambda atm: atm['channel']['address_zipcode']).distinct()"
   ]
  },
  {
   "cell_type": "code",
   "execution_count": 87,
   "metadata": {
    "collapsed": false,
    "deletable": true,
    "editable": true
   },
   "outputs": [
    {
     "data": {
      "text/plain": [
       "588"
      ]
     },
     "execution_count": 87,
     "metadata": {},
     "output_type": "execute_result"
    }
   ],
   "source": [
    "atm_loc.count()"
   ]
  },
  {
   "cell_type": "code",
   "execution_count": 88,
   "metadata": {
    "collapsed": false,
    "deletable": true,
    "editable": true
   },
   "outputs": [
    {
     "data": {
      "text/plain": [
       "[639201,\n",
       " 160401,\n",
       " 1001001,\n",
       " 951601,\n",
       " 39801,\n",
       " 30801,\n",
       " 331201,\n",
       " 359401,\n",
       " 679801,\n",
       " 360601,\n",
       " 601401,\n",
       " 40201,\n",
       " 159601,\n",
       " 158803,\n",
       " 858403,\n",
       " 997003,\n",
       " 763003,\n",
       " 106603,\n",
       " 161203,\n",
       " 224203]"
      ]
     },
     "execution_count": 88,
     "metadata": {},
     "output_type": "execute_result"
    }
   ],
   "source": [
    "atm_loc.take(20)"
   ]
  },
  {
   "cell_type": "code",
   "execution_count": 89,
   "metadata": {
    "collapsed": false,
    "deletable": true,
    "editable": true
   },
   "outputs": [
    {
     "data": {
      "text/plain": [
       "1"
      ]
     },
     "execution_count": 89,
     "metadata": {},
     "output_type": "execute_result"
    }
   ],
   "source": [
    "atm_loc.filter(lambda loc: loc == 437583).count()"
   ]
  },
  {
   "cell_type": "code",
   "execution_count": 90,
   "metadata": {
    "collapsed": true,
    "deletable": true,
    "editable": true
   },
   "outputs": [],
   "source": [
    "re_atm_loc = atm_attrs.map(lambda atm: (atm['channel']['address_zipcode'], 1)).reduceByKey(lambda x, y: x+y)"
   ]
  },
  {
   "cell_type": "code",
   "execution_count": 91,
   "metadata": {
    "collapsed": false,
    "deletable": true,
    "editable": true
   },
   "outputs": [
    {
     "data": {
      "text/plain": [
       "[(639201, 8),\n",
       " (160401, 2),\n",
       " (1001001, 6),\n",
       " (951601, 4),\n",
       " (39801, 2),\n",
       " (30801, 4),\n",
       " (331201, 2),\n",
       " (359401, 6),\n",
       " (679801, 8),\n",
       " (360601, 2)]"
      ]
     },
     "execution_count": 91,
     "metadata": {},
     "output_type": "execute_result"
    }
   ],
   "source": [
    "re_atm_loc.take(10)"
   ]
  },
  {
   "cell_type": "code",
   "execution_count": 92,
   "metadata": {
    "collapsed": false,
    "deletable": true,
    "editable": true
   },
   "outputs": [
    {
     "data": {
      "text/plain": [
       "1934"
      ]
     },
     "execution_count": 92,
     "metadata": {},
     "output_type": "execute_result"
    }
   ],
   "source": [
    "re_atm_loc.aggregate(0, lambda x, y: x+y[1], lambda x, y: x+y)"
   ]
  },
  {
   "cell_type": "code",
   "execution_count": 95,
   "metadata": {
    "collapsed": false,
    "deletable": true,
    "editable": true
   },
   "outputs": [
    {
     "data": {
      "text/plain": [
       "[(639201, 8)]"
      ]
     },
     "execution_count": 95,
     "metadata": {},
     "output_type": "execute_result"
    }
   ],
   "source": [
    "re_atm_loc.filter(lambda (c, n): c == 639201).take(2)"
   ]
  },
  {
   "cell_type": "code",
   "execution_count": null,
   "metadata": {
    "collapsed": true,
    "deletable": true,
    "editable": true
   },
   "outputs": [],
   "source": []
  }
 ],
 "metadata": {
  "kernelspec": {
   "display_name": "Python 2",
   "language": "python",
   "name": "python2"
  },
  "language_info": {
   "codemirror_mode": {
    "name": "ipython",
    "version": 2
   },
   "file_extension": ".py",
   "mimetype": "text/x-python",
   "name": "python",
   "nbconvert_exporter": "python",
   "pygments_lexer": "ipython2",
   "version": "2.7.13"
  }
 },
 "nbformat": 4,
 "nbformat_minor": 2
}
