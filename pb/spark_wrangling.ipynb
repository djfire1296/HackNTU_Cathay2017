{
 "cells": [
  {
   "cell_type": "markdown",
   "metadata": {
    "deletable": true,
    "editable": true
   },
   "source": [
    "# Setup"
   ]
  },
  {
   "cell_type": "code",
   "execution_count": 1,
   "metadata": {
    "collapsed": false,
    "deletable": true,
    "editable": true
   },
   "outputs": [],
   "source": [
    "# basic python package\n",
    "from __future__ import print_function\n",
    "from __future__ import division\n",
    "from __future__ import unicode_literals\n",
    "\n",
    "import os\n",
    "import math\n",
    "\n",
    "%matplotlib inline\n",
    "import matplotlib.pylab as plt\n",
    "import numpy as np\n",
    "import pandas as pd"
   ]
  },
  {
   "cell_type": "code",
   "execution_count": 2,
   "metadata": {
    "collapsed": true,
    "deletable": true,
    "editable": true
   },
   "outputs": [],
   "source": [
    "# spark related\n",
    "from pyspark.sql import DataFrameWriter\n",
    "sql = sqlContext.sql"
   ]
  },
  {
   "cell_type": "code",
   "execution_count": 3,
   "metadata": {
    "collapsed": false,
    "deletable": true,
    "editable": true
   },
   "outputs": [
    {
     "data": {
      "text/plain": [
       "u'local[*]'"
      ]
     },
     "execution_count": 3,
     "metadata": {},
     "output_type": "execute_result"
    }
   ],
   "source": [
    "# spark context\n",
    "sc.master"
   ]
  },
  {
   "cell_type": "code",
   "execution_count": 4,
   "metadata": {
    "collapsed": false,
    "deletable": true,
    "editable": true
   },
   "outputs": [
    {
     "name": "stdout",
     "output_type": "stream",
     "text": [
      "ls: ../../dataset/profile: No such file or directory\r\n"
     ]
    }
   ],
   "source": [
    "! ls ../../dataset/profile"
   ]
  },
  {
   "cell_type": "markdown",
   "metadata": {
    "deletable": true,
    "editable": true
   },
   "source": [
    "# Profile"
   ]
  },
  {
   "cell_type": "code",
   "execution_count": 5,
   "metadata": {
    "collapsed": false,
    "deletable": true,
    "editable": true
   },
   "outputs": [],
   "source": [
    "profile_path = os.path.abspath('../dataset/profile/**/*.csv')"
   ]
  },
  {
   "cell_type": "code",
   "execution_count": 6,
   "metadata": {
    "collapsed": false,
    "deletable": true,
    "editable": true
   },
   "outputs": [
    {
     "data": {
      "text/plain": [
       "[u'1,1871111837,F,D,181903,F,373933,3320438400,1217.1769900503969,528.7309192220683,Y,Y,N,N,3696969600',\n",
       " u'2,1208855837,M,C,68383,F,72631,3688502400,1717.8806412199986,3.3682296721720717,Y,N,Y,N,3696969600',\n",
       " u'3,2880263837,M,E,457653,F,93331,3692304000,1216.7107394786008,307.4304767295353,N,N,N,Y,3696969600',\n",
       " u'4,1334999837,M,L,74257,I,248503,3647980800,1414.86660231857,888.3791238333672,Y,N,N,Y,3696969600',\n",
       " u'5,2817191837,F,A,45583,I,895863,3622406400,1388.8557936778625,642.1109125464978,Y,Y,N,Y,3696969600']"
      ]
     },
     "execution_count": 6,
     "metadata": {},
     "output_type": "execute_result"
    }
   ],
   "source": [
    "profile_text = sc.textFile(profile_path)\n",
    "profile_text.take(5)"
   ]
  },
  {
   "cell_type": "markdown",
   "metadata": {
    "deletable": true,
    "editable": true
   },
   "source": [
    "## Raw data to Spark Dataframe "
   ]
  },
  {
   "cell_type": "code",
   "execution_count": 7,
   "metadata": {
    "collapsed": false,
    "deletable": true,
    "editable": true
   },
   "outputs": [
    {
     "name": "stdout",
     "output_type": "stream",
     "text": [
      "+-----------+----------+------+-----------+------------+------------+-------------+----------+------------------+------------------+----------------+---------+------------+-----------+--------------+\n",
      "|customer_id|birth_time|gender|contact_loc|contact_code|register_loc|register_code|start_time|               aum|        net_profit|credit_card_flag|loan_flag|deposit_flag|wealth_flag|partition_time|\n",
      "+-----------+----------+------+-----------+------------+------------+-------------+----------+------------------+------------------+----------------+---------+------------+-----------+--------------+\n",
      "|          1|1871111837|     F|          D|      181903|           F|       373933|3320438400|1217.1769900503969| 528.7309192220683|               Y|        Y|           N|          N|    3696969600|\n",
      "|          2|1208855837|     M|          C|       68383|           F|        72631|3688502400|1717.8806412199986|3.3682296721720717|               Y|        N|           Y|          N|    3696969600|\n",
      "|          3|2880263837|     M|          E|      457653|           F|        93331|3692304000|1216.7107394786008| 307.4304767295353|               N|        N|           N|          Y|    3696969600|\n",
      "|          4|1334999837|     M|          L|       74257|           I|       248503|3647980800|  1414.86660231857| 888.3791238333672|               Y|        N|           N|          Y|    3696969600|\n",
      "|          5|2817191837|     F|          A|       45583|           I|       895863|3622406400|1388.8557936778625| 642.1109125464978|               Y|        Y|           N|          Y|    3696969600|\n",
      "+-----------+----------+------+-----------+------------+------------+-------------+----------+------------------+------------------+----------------+---------+------------+-----------+--------------+\n",
      "only showing top 5 rows\n",
      "\n"
     ]
    }
   ],
   "source": [
    "from pyspark.sql.types import *\n",
    "\n",
    "fields = [\n",
    "    StructField('customer_id', StringType(), False),\n",
    "    StructField('birth_time', LongType(), True),\n",
    "    StructField('gender', StringType(), True),\n",
    "    StructField('contact_loc', StringType(), True),\n",
    "    StructField('contact_code', StringType(), True),\n",
    "    StructField('register_loc', StringType(), True),\n",
    "    StructField('register_code', StringType(), True),\n",
    "    StructField('start_time', LongType(), True),\n",
    "    StructField('aum', DoubleType(), True),\n",
    "    StructField('net_profit', DoubleType(), True),\n",
    "    StructField('credit_card_flag', StringType(), True),\n",
    "    StructField('loan_flag', StringType(), True),\n",
    "    StructField('deposit_flag', StringType(), True),\n",
    "    StructField('wealth_flag', StringType(), True),\n",
    "    StructField('partition_time', LongType(), True)\n",
    "]\n",
    "\n",
    "schema = StructType(fields)\n",
    "\n",
    "def process_profile_line(l):\n",
    "    p = l.split(',')\n",
    "    # for LongType\n",
    "    for i in [1, 7, 14]:\n",
    "        p[i] = int(p[i])\n",
    "    # for DoubleType\n",
    "    for i in [8, 9]:\n",
    "        p[i] = float(p[i])\n",
    "    return p\n",
    "\n",
    "profile_df = profile_text \\\n",
    "    .map(process_profile_line) \\\n",
    "    .toDF(schema=schema)\n",
    "    \n",
    "profile_df.show(5)"
   ]
  },
  {
   "cell_type": "code",
   "execution_count": 8,
   "metadata": {
    "collapsed": false,
    "deletable": true,
    "editable": true
   },
   "outputs": [
    {
     "data": {
      "text/plain": [
       "100"
      ]
     },
     "execution_count": 8,
     "metadata": {},
     "output_type": "execute_result"
    }
   ],
   "source": [
    "profile_df.count()"
   ]
  },
  {
   "cell_type": "markdown",
   "metadata": {
    "deletable": true,
    "editable": true
   },
   "source": [
    "# Event - CCTXN"
   ]
  },
  {
   "cell_type": "code",
   "execution_count": 9,
   "metadata": {
    "collapsed": false,
    "deletable": true,
    "editable": true
   },
   "outputs": [
    {
     "data": {
      "text/plain": [
       "[u'customer_id,19,purchase_consumption,3696971951,merchant_nbr,QAJCHACVJNGQFXQHOKWU,credit_carde,HGSFIVCJPDGIFYNSGCMX,\"{\\\\\"action\\\\\": {\\\\\"txn_amt\\\\\": 991.2349663409107, \\\\\"original_currency_code\\\\\": \\\\\"TWD\\\\\"}, \\\\\"object\\\\\": {\\\\\"merchant_category_code\\\\\": \\\\\"07251\\\\\"}, \\\\\"channel\\\\\": {\\\\\"card_type\\\\\": \\\\\"C\\\\\", \\\\\"card_level\\\\\": \\\\\"3\\\\\"}}\",cc_txn,3696969600',\n",
       " u'customer_id,44,purchase_consumption,3696971951,merchant_nbr,QAJCHACVJNGQFXQHOKWU,credit_carde,HGSFIVCJPDGIFYNSGCMX,\"{\\\\\"action\\\\\": {\\\\\"txn_amt\\\\\": 991.2349663409107, \\\\\"original_currency_code\\\\\": \\\\\"TWD\\\\\"}, \\\\\"object\\\\\": {\\\\\"merchant_category_code\\\\\": \\\\\"07251\\\\\"}, \\\\\"channel\\\\\": {\\\\\"card_type\\\\\": \\\\\"C\\\\\", \\\\\"card_level\\\\\": \\\\\"3\\\\\"}}\",cc_txn,3696969600']"
      ]
     },
     "execution_count": 9,
     "metadata": {},
     "output_type": "execute_result"
    }
   ],
   "source": [
    "cctxn_text = sc.textFile(os.path.abspath('../dataset/cctxn/**/*.csv'))\n",
    "cctxn_text.take(2)"
   ]
  },
  {
   "cell_type": "code",
   "execution_count": 10,
   "metadata": {
    "collapsed": false,
    "deletable": true,
    "editable": true
   },
   "outputs": [
    {
     "name": "stdout",
     "output_type": "stream",
     "text": [
      "+-----------+--------+--------------------+-----------+------------+--------------------+------------+--------------------+--------------------+------+--------------+\n",
      "| actor_type|actor_id|         action_type|action_time| object_type|           object_id|channel_type|          channel_id|               attrs| theme|partition_time|\n",
      "+-----------+--------+--------------------+-----------+------------+--------------------+------------+--------------------+--------------------+------+--------------+\n",
      "|customer_id|      19|purchase_consumption| 3696971951|merchant_nbr|QAJCHACVJNGQFXQHOKWU|credit_carde|HGSFIVCJPDGIFYNSGCMX|{\"action\": {\"txn_...|cc_txn|    3696969600|\n",
      "|customer_id|      44|purchase_consumption| 3696971951|merchant_nbr|QAJCHACVJNGQFXQHOKWU|credit_carde|HGSFIVCJPDGIFYNSGCMX|{\"action\": {\"txn_...|cc_txn|    3696969600|\n",
      "|customer_id|      19|        cash_advance| 3696973833|merchant_nbr|YILQWPZJPSDQLQVRZDWF|credit_carde|QQNZOTHNADGHAZTJEPIT|{\"action\": {\"txn_...|cc_txn|    3696969600|\n",
      "|customer_id|      44|        cash_advance| 3696973833|merchant_nbr|YILQWPZJPSDQLQVRZDWF|credit_carde|QQNZOTHNADGHAZTJEPIT|{\"action\": {\"txn_...|cc_txn|    3696969600|\n",
      "|customer_id|      25|purchase_consumption| 3696975279|merchant_nbr|CCDHQECPEFEZXBNVLHFW|credit_carde|WFTYUIBIHRKFGHEFWDVC|{\"action\": {\"txn_...|cc_txn|    3696969600|\n",
      "+-----------+--------+--------------------+-----------+------------+--------------------+------------+--------------------+--------------------+------+--------------+\n",
      "only showing top 5 rows\n",
      "\n"
     ]
    }
   ],
   "source": [
    "import json\n",
    "\n",
    "fields = [\n",
    "    StructField('actor_type', StringType(), False),\n",
    "    StructField('actor_id', StringType(), True),\n",
    "    StructField('action_type', StringType(), True),\n",
    "    StructField('action_time', LongType(), True),\n",
    "    StructField('object_type', StringType(), True),\n",
    "    StructField('object_id', StringType(), True),\n",
    "    StructField('channel_type', StringType(), True),\n",
    "    StructField('channel_id', StringType(), True),\n",
    "    StructField('attrs', StringType(), True),\n",
    "    StructField('theme', StringType(), True),\n",
    "    StructField('partition_time', LongType(), True)\n",
    "]\n",
    "\n",
    "schema = StructType(fields)\n",
    "\n",
    "def process_profile_line(l):\n",
    "    p = l.split(',')\n",
    "    # pre\n",
    "    pre_fields = p[:8]\n",
    "    pre_fields[3] = int(pre_fields[3])\n",
    "    # post\n",
    "    post_fields = p[-2:]\n",
    "    post_fields[-1] = int(post_fields[-1])\n",
    "    # attrs\n",
    "    attrs = json.loads(','.join(p[8:-2]))\n",
    "    # concat fields\n",
    "    fields = pre_fields + [attrs] + post_fields\n",
    "    return fields\n",
    "\n",
    "cctxn_df = cctxn_text.map(process_profile_line).toDF(schema=schema)\n",
    "\n",
    "cctxn_df.show(5)"
   ]
  },
  {
   "cell_type": "markdown",
   "metadata": {
    "deletable": true,
    "editable": true
   },
   "source": [
    "##  Use JSON process \"attrs\""
   ]
  },
  {
   "cell_type": "code",
   "execution_count": 11,
   "metadata": {
    "collapsed": false,
    "deletable": true,
    "editable": true
   },
   "outputs": [
    {
     "data": {
      "text/plain": [
       "[{u'action': {u'original_currency_code': u'TWD',\n",
       "   u'txn_amt': 991.2349663409107},\n",
       "  u'channel': {u'card_level': u'3', u'card_type': u'C'},\n",
       "  u'object': {u'merchant_category_code': u'07251'}},\n",
       " {u'action': {u'original_currency_code': u'TWD',\n",
       "   u'txn_amt': 991.2349663409107},\n",
       "  u'channel': {u'card_level': u'3', u'card_type': u'C'},\n",
       "  u'object': {u'merchant_category_code': u'07251'}},\n",
       " {u'action': {u'original_currency_code': u'TWD',\n",
       "   u'txn_amt': 761.7448493550429},\n",
       "  u'channel': {u'card_level': u'3', u'card_type': u'E'},\n",
       "  u'object': {u'merchant_category_code': u'03057'}}]"
      ]
     },
     "execution_count": 11,
     "metadata": {},
     "output_type": "execute_result"
    }
   ],
   "source": [
    "import json\n",
    "\n",
    "# return to RDD for unstructured data\n",
    "cctxn_attrs = cctxn_df.select(\"attrs\").rdd.map(lambda r: r.attrs).map(lambda x: json.loads(x))\n",
    "cctxn_attrs.take(3)"
   ]
  },
  {
   "cell_type": "markdown",
   "metadata": {
    "deletable": true,
    "editable": true
   },
   "source": [
    "## Count the number of each card level "
   ]
  },
  {
   "cell_type": "code",
   "execution_count": 12,
   "metadata": {
    "collapsed": false,
    "deletable": true,
    "editable": true
   },
   "outputs": [
    {
     "data": {
      "text/plain": [
       "[(u'4', 830), (u'3', 740), (u'5', 648), (u'2', 438), (u'6', 326), (u'1', 174)]"
      ]
     },
     "execution_count": 12,
     "metadata": {},
     "output_type": "execute_result"
    }
   ],
   "source": [
    "cctxn_attrs.filter(lambda x: x['channel']['card_level'] is not None) \\\n",
    "    .map(lambda x: x['channel']['card_level']) \\\n",
    "    .map(lambda cl: (cl, 1)) \\\n",
    "    .reduceByKey(lambda x, y: x + y) \\\n",
    "    .sortBy(lambda x: -x[1]) \\\n",
    "    .collect()"
   ]
  },
  {
   "cell_type": "markdown",
   "metadata": {
    "deletable": true,
    "editable": true
   },
   "source": [
    "# Merge data from different theme"
   ]
  },
  {
   "cell_type": "markdown",
   "metadata": {
    "deletable": true,
    "editable": true
   },
   "source": [
    "## ATM "
   ]
  },
  {
   "cell_type": "code",
   "execution_count": 13,
   "metadata": {
    "collapsed": false,
    "deletable": true,
    "editable": true
   },
   "outputs": [
    {
     "name": "stdout",
     "output_type": "stream",
     "text": [
      "+-----------+--------+-----------+-----------+-----------+--------------------+------------+--------------------+--------------------+-----+--------------+\n",
      "| actor_type|actor_id|action_type|action_time|object_type|           object_id|channel_type|          channel_id|               attrs|theme|partition_time|\n",
      "+-----------+--------+-----------+-----------+-----------+--------------------+------------+--------------------+--------------------+-----+--------------+\n",
      "|customer_id|      17|    inquire| 3696970704|saving_acct|MJQXLDJMQQOYAPFBBPBS|         ATM|NCZHYDSTABCUAXLYJLQZ|{\"action\": {\"txn_...|  atm|    3696969600|\n",
      "|customer_id|      42|    inquire| 3696970704|saving_acct|MJQXLDJMQQOYAPFBBPBS|         ATM|NCZHYDSTABCUAXLYJLQZ|{\"action\": {\"txn_...|  atm|    3696969600|\n",
      "|customer_id|       2|    inquire| 3696973691|saving_acct|NQVSLAHSTIYMZFTFVPBH|         ATM|HFJXJQTXPAMHUNCEMXBC|{\"action\": {\"txn_...|  atm|    3696969600|\n",
      "|customer_id|      27|    inquire| 3696973691|saving_acct|NQVSLAHSTIYMZFTFVPBH|         ATM|HFJXJQTXPAMHUNCEMXBC|{\"action\": {\"txn_...|  atm|    3696969600|\n",
      "|customer_id|      10|    inquire| 3696975735|saving_acct|CASVPTKLPAPEFWMOOGQX|         ATM|MVRVMGCBZADXPDFCGNSA|{\"action\": {\"txn_...|  atm|    3696969600|\n",
      "+-----------+--------+-----------+-----------+-----------+--------------------+------------+--------------------+--------------------+-----+--------------+\n",
      "only showing top 5 rows\n",
      "\n"
     ]
    }
   ],
   "source": [
    "atm_df = sc.textFile(os.path.abspath('../dataset/atm/**/*.csv')) \\\n",
    "    .map(process_profile_line) \\\n",
    "    .toDF(schema=schema)\n",
    "\n",
    "atm_df.show(5)"
   ]
  },
  {
   "cell_type": "markdown",
   "metadata": {
    "deletable": true,
    "editable": true
   },
   "source": [
    "## CTI "
   ]
  },
  {
   "cell_type": "code",
   "execution_count": 14,
   "metadata": {
    "collapsed": false,
    "deletable": true,
    "editable": true
   },
   "outputs": [
    {
     "name": "stdout",
     "output_type": "stream",
     "text": [
      "+-----------+--------+-----------+-----------+------------+---------+----------------+--------------------+--------------------+-----+--------------+\n",
      "| actor_type|actor_id|action_type|action_time| object_type|object_id|    channel_type|          channel_id|               attrs|theme|partition_time|\n",
      "+-----------+--------+-----------+-----------+------------+---------+----------------+--------------------+--------------------+-----+--------------+\n",
      "|customer_id|      21|    inbound| 3696990924|call_purpose|  0_29_20|customer_service|personal_phone_se...|{\"action\": {\"call...|  cti|    3696969600|\n",
      "|customer_id|      46|    inbound| 3696990924|call_purpose|  0_29_20|customer_service|personal_phone_se...|{\"action\": {\"call...|  cti|    3696969600|\n",
      "|customer_id|       5|    inbound| 3696991369|call_purpose|  0_1_112|customer_service|personal_phone_se...|{\"action\": {\"call...|  cti|    3696969600|\n",
      "|customer_id|      30|    inbound| 3696991369|call_purpose|  0_1_112|customer_service|personal_phone_se...|{\"action\": {\"call...|  cti|    3696969600|\n",
      "|customer_id|       9|    inbound| 3697005561|call_purpose|  2_18_50|customer_service|personal_phone_se...|{\"action\": {\"call...|  cti|    3696969600|\n",
      "+-----------+--------+-----------+-----------+------------+---------+----------------+--------------------+--------------------+-----+--------------+\n",
      "only showing top 5 rows\n",
      "\n"
     ]
    }
   ],
   "source": [
    "cti_df = sc.textFile(os.path.abspath('../dataset/cti/**/*.csv')) \\\n",
    "    .map(process_profile_line) \\\n",
    "    .toDF(schema=schema)\n",
    "\n",
    "cti_df.show(5)"
   ]
  },
  {
   "cell_type": "markdown",
   "metadata": {
    "deletable": true,
    "editable": true
   },
   "source": [
    "## MyBank "
   ]
  },
  {
   "cell_type": "code",
   "execution_count": 15,
   "metadata": {
    "collapsed": false,
    "deletable": true,
    "editable": true
   },
   "outputs": [
    {
     "name": "stdout",
     "output_type": "stream",
     "text": [
      "+-----------+--------+------------------+-----------+--------------------+--------------------+------------+----------+--------------------+------+--------------+\n",
      "| actor_type|actor_id|       action_type|action_time|         object_type|           object_id|channel_type|channel_id|               attrs| theme|partition_time|\n",
      "+-----------+--------+------------------+-----------+--------------------+--------------------+------------+----------+--------------------+------+--------------+\n",
      "|customer_id|       9|TWD_demand_deposit| 3696971762|            transfer|GMASOTHLZCPMRQIPPAFJ|     digital|    MyBank|{\"action\": {\"amt\"...|mybank|    3696969600|\n",
      "|customer_id|      34|TWD_demand_deposit| 3696971762|            transfer|GMASOTHLZCPMRQIPPAFJ|     digital|    MyBank|{\"action\": {\"amt\"...|mybank|    3696969600|\n",
      "|customer_id|       3|              fund| 3696974992|    general_purchase|ZSJUURIICROCLUXZPXFT|     digital|    MyBank|{\"action\": {\"amt\"...|mybank|    3696969600|\n",
      "|customer_id|      28|              fund| 3696974992|    general_purchase|ZSJUURIICROCLUXZPXFT|     digital|    MyBank|{\"action\": {\"amt\"...|mybank|    3696969600|\n",
      "|customer_id|      10|              fund| 3696988646|fixed_quota_purchase|DUMMCOJLCVXIIJPHYTVW|     digital|    MyBank|{\"action\": {\"amt\"...|mybank|    3696969600|\n",
      "+-----------+--------+------------------+-----------+--------------------+--------------------+------------+----------+--------------------+------+--------------+\n",
      "only showing top 5 rows\n",
      "\n"
     ]
    }
   ],
   "source": [
    "mybank_df = sc.textFile(os.path.abspath('../dataset/mybank/**/*.csv')) \\\n",
    "    .map(process_profile_line) \\\n",
    "    .toDF(schema=schema)\n",
    "\n",
    "mybank_df.show(5)"
   ]
  },
  {
   "cell_type": "markdown",
   "metadata": {
    "deletable": true,
    "editable": true
   },
   "source": [
    "## Union df "
   ]
  },
  {
   "cell_type": "code",
   "execution_count": 16,
   "metadata": {
    "collapsed": false,
    "deletable": true,
    "editable": true
   },
   "outputs": [],
   "source": [
    "event_df = cctxn_df.union(atm_df).union(cti_df).union(mybank_df)"
   ]
  },
  {
   "cell_type": "code",
   "execution_count": 17,
   "metadata": {
    "collapsed": false,
    "deletable": true,
    "editable": true
   },
   "outputs": [
    {
     "data": {
      "text/plain": [
       "6668"
      ]
     },
     "execution_count": 17,
     "metadata": {},
     "output_type": "execute_result"
    }
   ],
   "source": [
    "event_df.count()"
   ]
  },
  {
   "cell_type": "code",
   "execution_count": 18,
   "metadata": {
    "collapsed": false,
    "deletable": true,
    "editable": true
   },
   "outputs": [],
   "source": [
    "event_cnt_df = event_df.groupBy('actor_id').pivot('theme', ['cc_txn', 'atm', 'cti', 'mybank']).count()"
   ]
  },
  {
   "cell_type": "code",
   "execution_count": 19,
   "metadata": {
    "collapsed": false,
    "deletable": true,
    "editable": true
   },
   "outputs": [
    {
     "name": "stdout",
     "output_type": "stream",
     "text": [
      "+--------+------+---+---+------+\n",
      "|actor_id|cc_txn|atm|cti|mybank|\n",
      "+--------+------+---+---+------+\n",
      "|       7|    99| 10|  7|    20|\n",
      "|      15|    75| 35|  2|    20|\n",
      "|      11|     5|  8|  6|    36|\n",
      "|      29|    67| 17|  9|     7|\n",
      "|      42|    37| 69|  9|    38|\n",
      "+--------+------+---+---+------+\n",
      "only showing top 5 rows\n",
      "\n"
     ]
    }
   ],
   "source": [
    "event_cnt_df.show(5)"
   ]
  },
  {
   "cell_type": "markdown",
   "metadata": {
    "deletable": true,
    "editable": true
   },
   "source": [
    "# Profile with Events"
   ]
  },
  {
   "cell_type": "code",
   "execution_count": 20,
   "metadata": {
    "collapsed": false,
    "deletable": true,
    "editable": true
   },
   "outputs": [
    {
     "data": {
      "text/plain": [
       "[3696969600, 3699475200]"
      ]
     },
     "execution_count": 20,
     "metadata": {},
     "output_type": "execute_result"
    }
   ],
   "source": [
    "times = profile_df \\\n",
    "    .select('partition_time') \\\n",
    "    .distinct() \\\n",
    "    .orderBy('partition_time') \\\n",
    "    .rdd.map(lambda x: x.partition_time) \\\n",
    "    .collect()\n",
    "\n",
    "times"
   ]
  },
  {
   "cell_type": "code",
   "execution_count": 21,
   "metadata": {
    "collapsed": true,
    "deletable": true,
    "editable": true
   },
   "outputs": [],
   "source": [
    "start_profile_df = profile_df.where('partition_time={}'.format(times[0]))\n",
    "end_profile_df = profile_df.where('partition_time={}'.format(times[1]))"
   ]
  },
  {
   "cell_type": "code",
   "execution_count": 22,
   "metadata": {
    "collapsed": false,
    "deletable": true,
    "editable": true
   },
   "outputs": [
    {
     "name": "stdout",
     "output_type": "stream",
     "text": [
      "+-----------+----------+------+-----------+------------+------------+-------------+----------+------------------+------------------+----------------+---------+------------+-----------+--------------+\n",
      "|customer_id|birth_time|gender|contact_loc|contact_code|register_loc|register_code|start_time|               aum|        net_profit|credit_card_flag|loan_flag|deposit_flag|wealth_flag|partition_time|\n",
      "+-----------+----------+------+-----------+------------+------------+-------------+----------+------------------+------------------+----------------+---------+------------+-----------+--------------+\n",
      "|          1|1871111837|     F|          D|      181903|           F|       373933|3320438400|1217.1769900503969| 528.7309192220683|               Y|        Y|           N|          N|    3696969600|\n",
      "|          2|1208855837|     M|          C|       68383|           F|        72631|3688502400|1717.8806412199986|3.3682296721720717|               Y|        N|           Y|          N|    3696969600|\n",
      "|          3|2880263837|     M|          E|      457653|           F|        93331|3692304000|1216.7107394786008| 307.4304767295353|               N|        N|           N|          Y|    3696969600|\n",
      "|          4|1334999837|     M|          L|       74257|           I|       248503|3647980800|  1414.86660231857| 888.3791238333672|               Y|        N|           N|          Y|    3696969600|\n",
      "|          5|2817191837|     F|          A|       45583|           I|       895863|3622406400|1388.8557936778625| 642.1109125464978|               Y|        Y|           N|          Y|    3696969600|\n",
      "+-----------+----------+------+-----------+------------+------------+-------------+----------+------------------+------------------+----------------+---------+------------+-----------+--------------+\n",
      "only showing top 5 rows\n",
      "\n"
     ]
    }
   ],
   "source": [
    "start_profile_df.show(5)"
   ]
  },
  {
   "cell_type": "code",
   "execution_count": 23,
   "metadata": {
    "collapsed": true,
    "deletable": true,
    "editable": true
   },
   "outputs": [],
   "source": [
    "start_profile_df.registerTempTable('start_profile')\n",
    "end_profile_df.registerTempTable('end_profile')\n",
    "event_cnt_df.registerTempTable('event_cnt')"
   ]
  },
  {
   "cell_type": "code",
   "execution_count": 24,
   "metadata": {
    "collapsed": false,
    "deletable": true,
    "editable": true
   },
   "outputs": [],
   "source": [
    "sql(\"\"\"\n",
    "    select \n",
    "        a.*,\n",
    "        p1.credit_card_flag as start_cc,\n",
    "        p1.loan_flag as start_loan,\n",
    "        p1.deposit_flag as start_deposit,\n",
    "        p1.wealth_flag as start_wealth,\n",
    "        p2.credit_card_flag as end_cc,\n",
    "        p2.loan_flag as end_loan,\n",
    "        p2.deposit_flag as end_deposit,\n",
    "        p2.wealth_flag as end_wealth\n",
    "    from event_cnt a\n",
    "    join start_profile p1\n",
    "        on a.actor_id=p1.customer_id\n",
    "    join end_profile p2\n",
    "        on a.actor_id=p2.customer_id\n",
    "    order by actor_id\n",
    "\"\"\").registerTempTable('actor_status')"
   ]
  },
  {
   "cell_type": "code",
   "execution_count": 25,
   "metadata": {
    "collapsed": false,
    "deletable": true,
    "editable": true
   },
   "outputs": [
    {
     "name": "stdout",
     "output_type": "stream",
     "text": [
      "+--------+------+---+---+------+--------+----------+-------------+------------+------+--------+-----------+----------+\n",
      "|actor_id|cc_txn|atm|cti|mybank|start_cc|start_loan|start_deposit|start_wealth|end_cc|end_loan|end_deposit|end_wealth|\n",
      "+--------+------+---+---+------+--------+----------+-------------+------------+------+--------+-----------+----------+\n",
      "|       1|    54| 54| 15|    15|       Y|         Y|            N|           N|     N|       Y|          Y|         N|\n",
      "|      10|    34| 48| 15|    37|       N|         Y|            Y|           Y|     N|       N|          N|         Y|\n",
      "|      11|     5|  8|  6|    36|       Y|         N|            N|           N|     N|       N|          Y|         Y|\n",
      "|      12|    98| 70|  8|    37|       N|         N|            Y|           N|     N|       N|          N|         Y|\n",
      "|      13|    59| 59|  8|    18|       Y|         Y|            N|           N|     N|       Y|          Y|         N|\n",
      "+--------+------+---+---+------+--------+----------+-------------+------------+------+--------+-----------+----------+\n",
      "only showing top 5 rows\n",
      "\n"
     ]
    }
   ],
   "source": [
    "sql(\"\"\"\n",
    "    select * from actor_status\n",
    "\"\"\").show(5)"
   ]
  },
  {
   "cell_type": "markdown",
   "metadata": {
    "deletable": true,
    "editable": true
   },
   "source": [
    "# Play with KMeans"
   ]
  },
  {
   "cell_type": "code",
   "execution_count": 26,
   "metadata": {
    "collapsed": false,
    "deletable": true,
    "editable": true
   },
   "outputs": [],
   "source": [
    "from pyspark.sql.functions import col\n",
    "from pyspark.ml import Pipeline\n",
    "from pyspark.ml.feature import StandardScaler, VectorAssembler\n",
    "from pyspark.ml.clustering import KMeans"
   ]
  },
  {
   "cell_type": "code",
   "execution_count": 27,
   "metadata": {
    "collapsed": false,
    "deletable": true,
    "editable": true
   },
   "outputs": [
    {
     "name": "stdout",
     "output_type": "stream",
     "text": [
      "+--------+--------------------+------------------+--------------------+------------------+\n",
      "|actor_id|         cctxn_score|         atm_score|           cti_score|      mybank_score|\n",
      "+--------+--------------------+------------------+--------------------+------------------+\n",
      "|       1|  3.9889858984144118|3.9889858984144118|  2.7080568677466546|2.7080568677466546|\n",
      "|      10|   3.526363465788307|3.8712030942390543|  2.7080568677466546| 3.610920615343275|\n",
      "|      11|   1.609457912234103|2.0794540416017115|  1.7917761357558344|3.5835217162300297|\n",
      "|      12|   4.584968499078214| 4.248496670619767|  2.0794540416017115| 3.610920615343275|\n",
      "|      13|   4.077539138819537| 4.077539138819537|  2.0794540416017115| 2.890377313436288|\n",
      "|      14|  3.5835217162300297|2.3979043636661395|9.999500033329732E-5| 3.135498563745785|\n",
      "|      15|   4.317489446868755|3.5553509186281893|   0.693197179309987| 2.995737273541491|\n",
      "|      16|   4.317489446868755| 2.833219226391856|   0.693197179309987| 3.178057997005932|\n",
      "|      17|   3.610920615343275| 4.234107953871572|  2.1972356883856023|3.6375887913018707|\n",
      "|      18|    4.56434923313396| 1.609457912234103|  1.7917761357558344|2.0794540416017115|\n",
      "|      19|    4.27666750790398| 2.995737273541491|   2.302595092944046| 3.367299278256391|\n",
      "|       2|   4.248496670619767| 3.663564210228923|  2.1972356883856023| 3.135498563745785|\n",
      "|      20|    4.27666750790398| 4.430817989318795|   1.609457912234103|3.6375887913018707|\n",
      "|      21|9.999500033329732E-5|  4.11087550351623|  2.6390644724468912| 3.178057997005932|\n",
      "|      22|   4.158884645858452| 3.135498563745785|  2.0794540416017115| 0.693197179309987|\n",
      "|      23|     1.0986456214459| 4.204694111927166|  2.6390644724468912| 2.890377313436288|\n",
      "|      24|    4.45434845904353| 3.610920615343275|  1.3863193608073958| 3.367299278256391|\n",
      "|      25|   4.510860605417345|2.6390644724468912|  2.7080568677466546|  2.77259497222025|\n",
      "|      26|  3.9889858984144118|3.9889858984144118|  2.7080568677466546|2.7080568677466546|\n",
      "|      27|   4.248496670619767| 3.663564210228923|  2.1972356883856023| 3.135498563745785|\n",
      "+--------+--------------------+------------------+--------------------+------------------+\n",
      "only showing top 20 rows\n",
      "\n"
     ]
    }
   ],
   "source": [
    "dataset = sql(\"\"\"\n",
    "    select \n",
    "        actor_id,\n",
    "        log(cast(cc_txn as double) + 0.0001) as cctxn_score,\n",
    "        log(cast(atm as double) + 0.0001) as atm_score,\n",
    "        log(cast(cti as double) + 0.0001) as cti_score,\n",
    "        log(cast(mybank as double) + 0.0001) as mybank_score\n",
    "    from actor_status\n",
    "\"\"\")\n",
    "\n",
    "dataset.show()"
   ]
  },
  {
   "cell_type": "markdown",
   "metadata": {
    "deletable": true,
    "editable": true
   },
   "source": [
    "## Feature engineering + KMeans "
   ]
  },
  {
   "cell_type": "code",
   "execution_count": 28,
   "metadata": {
    "collapsed": true,
    "deletable": true,
    "editable": true
   },
   "outputs": [],
   "source": [
    "cluster_num = 2\n",
    "feature_cols = ['cctxn_score', 'atm_score', 'cti_score', 'mybank_score']\n",
    "\n",
    "# Combine selected columns to generate vector column\n",
    "assembler = VectorAssembler(\n",
    "    inputCols=feature_cols,\n",
    "    outputCol='features')\n",
    "\n",
    "# Standard Scaler\n",
    "scaler = StandardScaler(inputCol=\"features\", outputCol=\"scaled_features\",\n",
    "                       withStd=True, withMean=True)\n",
    "\n",
    "# KMeans\n",
    "kmeans = KMeans(k=cluster_num, featuresCol=\"scaled_features\", seed=1)\n",
    "\n",
    "# pipeline\n",
    "pipeline = Pipeline(stages=[assembler, scaler, kmeans])\n",
    "pipelineModel = pipeline.fit(dataset)"
   ]
  },
  {
   "cell_type": "code",
   "execution_count": 29,
   "metadata": {
    "collapsed": false,
    "deletable": true,
    "editable": true
   },
   "outputs": [
    {
     "data": {
      "text/plain": [
       "[array([-0.07632757,  0.46174105,  0.47183624, -0.12596761]),\n",
       " array([ 0.16219608, -0.98119973, -1.00265201,  0.26768118])]"
      ]
     },
     "execution_count": 29,
     "metadata": {},
     "output_type": "execute_result"
    }
   ],
   "source": [
    "kmeans_model = pipelineModel.stages[2]\n",
    "centers = kmeans_model.clusterCenters()\n",
    "centers"
   ]
  },
  {
   "cell_type": "code",
   "execution_count": 30,
   "metadata": {
    "collapsed": false,
    "deletable": true,
    "editable": true
   },
   "outputs": [
    {
     "name": "stdout",
     "output_type": "stream",
     "text": [
      "+--------+------------------+------------------+--------------------+------------------+----------+\n",
      "|actor_id|       cctxn_score|         atm_score|           cti_score|      mybank_score|prediction|\n",
      "+--------+------------------+------------------+--------------------+------------------+----------+\n",
      "|       1|3.9889858984144118|3.9889858984144118|  2.7080568677466546|2.7080568677466546|         0|\n",
      "|      10| 3.526363465788307|3.8712030942390543|  2.7080568677466546| 3.610920615343275|         0|\n",
      "|      11| 1.609457912234103|2.0794540416017115|  1.7917761357558344|3.5835217162300297|         1|\n",
      "|      12| 4.584968499078214| 4.248496670619767|  2.0794540416017115| 3.610920615343275|         0|\n",
      "|      13| 4.077539138819537| 4.077539138819537|  2.0794540416017115| 2.890377313436288|         0|\n",
      "|      14|3.5835217162300297|2.3979043636661395|9.999500033329732E-5| 3.135498563745785|         1|\n",
      "|      15| 4.317489446868755|3.5553509186281893|   0.693197179309987| 2.995737273541491|         1|\n",
      "|      16| 4.317489446868755| 2.833219226391856|   0.693197179309987| 3.178057997005932|         1|\n",
      "|      17| 3.610920615343275| 4.234107953871572|  2.1972356883856023|3.6375887913018707|         0|\n",
      "|      18|  4.56434923313396| 1.609457912234103|  1.7917761357558344|2.0794540416017115|         1|\n",
      "+--------+------------------+------------------+--------------------+------------------+----------+\n",
      "only showing top 10 rows\n",
      "\n"
     ]
    }
   ],
   "source": [
    "predicted_df = pipelineModel.transform(dataset)\n",
    "predicted_df.select(['actor_id', 'cctxn_score', 'atm_score', 'cti_score', 'mybank_score', 'prediction']).show(10)"
   ]
  },
  {
   "cell_type": "code",
   "execution_count": 31,
   "metadata": {
    "collapsed": false,
    "deletable": true,
    "editable": true
   },
   "outputs": [],
   "source": [
    "X = predicted_df.rdd.map(lambda r: r.scaled_features.toArray()).collect()\n",
    "y = predicted_df.rdd.map(lambda r: r.prediction).collect()"
   ]
  },
  {
   "cell_type": "code",
   "execution_count": 32,
   "metadata": {
    "collapsed": false,
    "deletable": true,
    "editable": true
   },
   "outputs": [
    {
     "data": {
      "text/plain": [
       "((50, 4), (50,))"
      ]
     },
     "execution_count": 32,
     "metadata": {},
     "output_type": "execute_result"
    }
   ],
   "source": [
    "X = np.array(X)\n",
    "y = np.array(y)\n",
    "\n",
    "X.shape, y.shape"
   ]
  },
  {
   "cell_type": "code",
   "execution_count": 33,
   "metadata": {
    "collapsed": false,
    "deletable": true,
    "editable": true
   },
   "outputs": [
    {
     "data": {
      "image/png": "[encoded data removed]",
      "text/plain": [
       "<matplotlib.figure.Figure at 0x11547df50>"
      ]
     },
     "metadata": {},
     "output_type": "display_data"
    }
   ],
   "source": [
    "from sklearn.manifold import TSNE\n",
    "import matplotlib.cm as cm\n",
    "\n",
    "colors = cm.rainbow(np.linspace(0, 1, cluster_num))\n",
    "tsne = TSNE(perplexity=30, n_components=2, init='pca', n_iter=5000)\n",
    "points = tsne.fit_transform(X)\n",
    "plt.figure(figsize=(10, 6))\n",
    "plt.xlabel('comp 1')\n",
    "plt.ylabel('comp 2')\n",
    "for p_c in zip(points,  colors[y]):\n",
    "    plt.scatter(p_c[0][0], p_c[0][1], color=p_c[1])"
   ]
  },
  {
   "cell_type": "markdown",
   "metadata": {
    "deletable": true,
    "editable": true
   },
   "source": [
    "# Dataframe save and load"
   ]
  },
  {
   "cell_type": "code",
   "execution_count": 34,
   "metadata": {
    "collapsed": true,
    "deletable": true,
    "editable": true
   },
   "outputs": [],
   "source": [
    "predicted_df.write.save(\"df-result\", mode=\"overwrite\", format=\"parquet\")"
   ]
  },
  {
   "cell_type": "code",
   "execution_count": 35,
   "metadata": {
    "collapsed": false,
    "deletable": true,
    "editable": true
   },
   "outputs": [],
   "source": [
    "from pyspark.sql import DataFrameReader\n",
    "\n",
    "loaded_df = spark.read.load(\"df-result\")"
   ]
  },
  {
   "cell_type": "code",
   "execution_count": 36,
   "metadata": {
    "collapsed": false,
    "deletable": true,
    "editable": true
   },
   "outputs": [
    {
     "name": "stdout",
     "output_type": "stream",
     "text": [
      "+--------+------------------+------------------+------------------+------------------+--------------------+--------------------+----------+\n",
      "|actor_id|       cctxn_score|         atm_score|         cti_score|      mybank_score|            features|     scaled_features|prediction|\n",
      "+--------+------------------+------------------+------------------+------------------+--------------------+--------------------+----------+\n",
      "|      13| 4.077539138819537| 4.077539138819537|2.0794540416017115| 2.890377313436288|[4.07753913881953...|[0.22728221389367...|         0|\n",
      "|      38| 4.077539138819537| 4.077539138819537|2.0794540416017115| 2.890377313436288|[4.07753913881953...|[0.22728221389367...|         0|\n",
      "|      26|3.9889858984144118|3.9889858984144118|2.7080568677466546|2.7080568677466546|[3.98898589841441...|[0.15092105202209...|         0|\n",
      "|      10| 3.526363465788307|3.8712030942390543|2.7080568677466546| 3.610920615343275|[3.52636346578830...|[-0.2480071667711...|         0|\n",
      "|      11| 1.609457912234103|2.0794540416017115|1.7917761357558344|3.5835217162300297|[1.60945791223410...|[-1.9009916831797...|         1|\n",
      "+--------+------------------+------------------+------------------+------------------+--------------------+--------------------+----------+\n",
      "only showing top 5 rows\n",
      "\n"
     ]
    }
   ],
   "source": [
    "loaded_df.show(5)"
   ]
  },
  {
   "cell_type": "markdown",
   "metadata": {
    "deletable": true,
    "editable": true
   },
   "source": [
    "# Thanks for your attending HackNTU X Cathay 2017!"
   ]
  },
  {
   "cell_type": "code",
   "execution_count": null,
   "metadata": {
    "collapsed": true,
    "deletable": true,
    "editable": true
   },
   "outputs": [],
   "source": []
  }
 ],
 "metadata": {
  "anaconda-cloud": {},
  "kernelspec": {
   "display_name": "Python 2",
   "language": "python",
   "name": "python2"
  },
  "language_info": {
   "codemirror_mode": {
    "name": "ipython",
    "version": 2
   },
   "file_extension": ".py",
   "mimetype": "text/x-python",
   "name": "python",
   "nbconvert_exporter": "python",
   "pygments_lexer": "ipython2",
   "version": "2.7.13"
  }
 },
 "nbformat": 4,
 "nbformat_minor": 1
}
