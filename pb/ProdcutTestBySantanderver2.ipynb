{
 "cells": [
  {
   "cell_type": "code",
   "execution_count": 1,
   "metadata": {
    "collapsed": true,
    "deletable": true,
    "editable": true
   },
   "outputs": [],
   "source": [
    "# basic libraries\n",
    "import os\n",
    "import math\n",
    "\n",
    "import numpy as np\n",
    "import pandas as pd\n",
    "import matplotlib.pylab as plt"
   ]
  },
  {
   "cell_type": "code",
   "execution_count": 2,
   "metadata": {
    "collapsed": true,
    "deletable": true,
    "editable": true
   },
   "outputs": [],
   "source": [
    "# pyspark related\n",
    "from pyspark import SparkContext\n",
    "from pyspark import SparkConf"
   ]
  },
  {
   "cell_type": "code",
   "execution_count": 3,
   "metadata": {
    "collapsed": false,
    "deletable": true,
    "editable": true
   },
   "outputs": [],
   "source": [
    "sc = SparkContext('local[*]', 'PySpark')"
   ]
  },
  {
   "cell_type": "code",
   "execution_count": 4,
   "metadata": {
    "collapsed": true,
    "deletable": true,
    "editable": true
   },
   "outputs": [],
   "source": [
    "# spark sql related\n",
    "from pyspark.sql import DataFrameWriter\n",
    "from pyspark.sql import SQLContext\n",
    "sqlContext = SQLContext(sc)\n",
    "sql = sqlContext.sql"
   ]
  },
  {
   "cell_type": "code",
   "execution_count": 5,
   "metadata": {
    "collapsed": false,
    "deletable": true,
    "editable": true
   },
   "outputs": [
    {
     "data": {
      "text/plain": [
       "u'local[*]'"
      ]
     },
     "execution_count": 5,
     "metadata": {},
     "output_type": "execute_result"
    }
   ],
   "source": [
    "sc.master"
   ]
  },
  {
   "cell_type": "code",
   "execution_count": null,
   "metadata": {
    "collapsed": true,
    "deletable": true,
    "editable": true
   },
   "outputs": [],
   "source": []
  },
  {
   "cell_type": "markdown",
   "metadata": {
    "deletable": true,
    "editable": true
   },
   "source": [
    "<h1> Read File </h1>"
   ]
  },
  {
   "cell_type": "code",
   "execution_count": 6,
   "metadata": {
    "collapsed": true,
    "deletable": true,
    "editable": true
   },
   "outputs": [],
   "source": [
    "allRDD = sc.textFile(\"../../dataset/santander/train_ver2.csv\")"
   ]
  },
  {
   "cell_type": "code",
   "execution_count": 7,
   "metadata": {
    "collapsed": false,
    "deletable": true,
    "editable": true
   },
   "outputs": [
    {
     "name": "stdout",
     "output_type": "stream",
     "text": [
      "total 13647310 datas\n"
     ]
    }
   ],
   "source": [
    "# allnum = allRDD.count()\n",
    "allnum = 13647310\n",
    "print \"total \" + str(allnum) + \" datas\""
   ]
  },
  {
   "cell_type": "code",
   "execution_count": 8,
   "metadata": {
    "collapsed": false,
    "deletable": true,
    "editable": true
   },
   "outputs": [
    {
     "name": "stdout",
     "output_type": "stream",
     "text": [
      "\"fecha_dato\",\"ncodpers\",\"ind_empleado\",\"pais_residencia\",\"sexo\",\"age\",\"fecha_alta\",\"ind_nuevo\",\"antiguedad\",\"indrel\",\"ult_fec_cli_1t\",\"indrel_1mes\",\"tiprel_1mes\",\"indresi\",\"indext\",\"conyuemp\",\"canal_entrada\",\"indfall\",\"tipodom\",\"cod_prov\",\"nomprov\",\"ind_actividad_cliente\",\"renta\",\"segmento\",\"ind_ahor_fin_ult1\",\"ind_aval_fin_ult1\",\"ind_cco_fin_ult1\",\"ind_cder_fin_ult1\",\"ind_cno_fin_ult1\",\"ind_ctju_fin_ult1\",\"ind_ctma_fin_ult1\",\"ind_ctop_fin_ult1\",\"ind_ctpp_fin_ult1\",\"ind_deco_fin_ult1\",\"ind_deme_fin_ult1\",\"ind_dela_fin_ult1\",\"ind_ecue_fin_ult1\",\"ind_fond_fin_ult1\",\"ind_hip_fin_ult1\",\"ind_plan_fin_ult1\",\"ind_pres_fin_ult1\",\"ind_reca_fin_ult1\",\"ind_tjcr_fin_ult1\",\"ind_valo_fin_ult1\",\"ind_viv_fin_ult1\",\"ind_nomina_ult1\",\"ind_nom_pens_ult1\",\"ind_recibo_ult1\"\n"
     ]
    }
   ],
   "source": [
    "header = allRDD.first()\n",
    "print header"
   ]
  },
  {
   "cell_type": "code",
   "execution_count": 9,
   "metadata": {
    "collapsed": false,
    "deletable": true,
    "editable": true
   },
   "outputs": [
    {
     "data": {
      "text/plain": [
       "[u'2015-01-28,1375586,N,ES,H, 35,2015-01-12, 0,      6, 1,,1.0,A,S,N,,KHL,N, 1,29,\"MALAGA\", 1,87218.1,02 - PARTICULARES,0,0,1,0,0,0,0,0,0,0,0,0,0,0,0,0,0,0,0,0,0, 0, 0,0',\n",
       " u'2015-01-28,1050611,N,ES,V, 23,2012-08-10, 0,     35, 1,,1,I,S,S,,KHE,N, 1,13,\"CIUDAD REAL\", 0,35548.74,03 - UNIVERSITARIO,0,0,1,0,0,0,0,0,0,0,0,0,0,0,0,0,0,0,0,0,0, 0, 0,0',\n",
       " u'2015-01-28,1050612,N,ES,V, 23,2012-08-10, 0,     35, 1,,1,I,S,N,,KHE,N, 1,13,\"CIUDAD REAL\", 0,122179.11000000002,03 - UNIVERSITARIO,0,0,1,0,0,0,0,0,0,0,0,0,0,0,0,0,0,0,0,0,0, 0, 0,0',\n",
       " u'2015-01-28,1050613,N,ES,H, 22,2012-08-10, 0,     35, 1,,1,I,S,N,,KHD,N, 1,50,\"ZARAGOZA\", 0,119775.54,03 - UNIVERSITARIO,0,0,0,0,0,0,0,0,0,1,0,0,0,0,0,0,0,0,0,0,0, 0, 0,0',\n",
       " u'2015-01-28,1050614,N,ES,V, 23,2012-08-10, 0,     35, 1,,1,A,S,N,,KHE,N, 1,50,\"ZARAGOZA\", 1,,03 - UNIVERSITARIO,0,0,1,0,0,0,0,0,0,0,0,0,0,0,0,0,0,0,0,0,0, 0, 0,0']"
      ]
     },
     "execution_count": 9,
     "metadata": {},
     "output_type": "execute_result"
    }
   ],
   "source": [
    "dataRDD = allRDD.filter(lambda d: d != header)\n",
    "dataRDD.take(5)"
   ]
  },
  {
   "cell_type": "code",
   "execution_count": 10,
   "metadata": {
    "collapsed": false,
    "deletable": true,
    "editable": true
   },
   "outputs": [
    {
     "data": {
      "text/plain": [
       "[u'2015-01-28,1375586,N,ES,H,35,2015-01-12,0,6,1,,1.0,A,S,N,,KHL,N,1,29,\"MALAGA\",1,87218.1,02-PARTICULARES,0,0,1,0,0,0,0,0,0,0,0,0,0,0,0,0,0,0,0,0,0,0,0,0',\n",
       " u'2015-01-28,1050611,N,ES,V,23,2012-08-10,0,35,1,,1,I,S,S,,KHE,N,1,13,\"CIUDADREAL\",0,35548.74,03-UNIVERSITARIO,0,0,1,0,0,0,0,0,0,0,0,0,0,0,0,0,0,0,0,0,0,0,0,0',\n",
       " u'2015-01-28,1050612,N,ES,V,23,2012-08-10,0,35,1,,1,I,S,N,,KHE,N,1,13,\"CIUDADREAL\",0,122179.11000000002,03-UNIVERSITARIO,0,0,1,0,0,0,0,0,0,0,0,0,0,0,0,0,0,0,0,0,0,0,0,0',\n",
       " u'2015-01-28,1050613,N,ES,H,22,2012-08-10,0,35,1,,1,I,S,N,,KHD,N,1,50,\"ZARAGOZA\",0,119775.54,03-UNIVERSITARIO,0,0,0,0,0,0,0,0,0,1,0,0,0,0,0,0,0,0,0,0,0,0,0,0',\n",
       " u'2015-01-28,1050614,N,ES,V,23,2012-08-10,0,35,1,,1,A,S,N,,KHE,N,1,50,\"ZARAGOZA\",1,,03-UNIVERSITARIO,0,0,1,0,0,0,0,0,0,0,0,0,0,0,0,0,0,0,0,0,0,0,0,0']"
      ]
     },
     "execution_count": 10,
     "metadata": {},
     "output_type": "execute_result"
    }
   ],
   "source": [
    "dataRDD = dataRDD.map(lambda d: d.replace(' ',''))\n",
    "dataRDD.take(5)"
   ]
  },
  {
   "cell_type": "code",
   "execution_count": 11,
   "metadata": {
    "collapsed": false,
    "deletable": true,
    "editable": true
   },
   "outputs": [],
   "source": [
    "# findlossRDD = dataRDD.map(lambda d: d.split(',')).filter(lambda d: len(d) != 48)"
   ]
  },
  {
   "cell_type": "code",
   "execution_count": 12,
   "metadata": {
    "collapsed": false,
    "deletable": true,
    "editable": true
   },
   "outputs": [],
   "source": [
    "# findlossRDD.count()\n",
    "findlossnum = 875157"
   ]
  },
  {
   "cell_type": "code",
   "execution_count": 13,
   "metadata": {
    "collapsed": true,
    "deletable": true,
    "editable": true
   },
   "outputs": [],
   "source": [
    "# distinctflRDD = findlossRDD.map(lambda d: len(d)).distinct()"
   ]
  },
  {
   "cell_type": "code",
   "execution_count": 14,
   "metadata": {
    "collapsed": false,
    "deletable": true,
    "editable": true
   },
   "outputs": [],
   "source": [
    "# distinctflRDD.collect() # [49]"
   ]
  },
  {
   "cell_type": "code",
   "execution_count": 15,
   "metadata": {
    "collapsed": true,
    "deletable": true,
    "editable": true
   },
   "outputs": [],
   "source": [
    "def data_cleaning(d):\n",
    "    ds = d.split(',')\n",
    "    if len(ds) == 48:\n",
    "        del ds[2:24]\n",
    "    else:\n",
    "        del ds[2:25]\n",
    "    \n",
    "    ds[0] = ds[0].encode('utf-8')\n",
    "    ds[1] = ds[1].encode('utf-8')\n",
    "    \n",
    "    for i in xrange(2,26):\n",
    "        try:\n",
    "            ds[i] = int(ds[i]) if ds[i] != '' and ds[i] != 'NA' else 0\n",
    "        except ValueError:\n",
    "            print ds\n",
    "    return ds"
   ]
  },
  {
   "cell_type": "code",
   "execution_count": 27,
   "metadata": {
    "collapsed": false
   },
   "outputs": [],
   "source": [
    "def data_cleaning_ver2(d):\n",
    "    ds = d.split(',')\n",
    "    if len(ds) == 48:\n",
    "        del ds[2:6]\n",
    "        del ds[3:20]\n",
    "    else:\n",
    "        del ds[2:6]\n",
    "        del ds[3:21]\n",
    "    \n",
    "    ds[0] = ds[0].encode('utf-8')\n",
    "    ds[1] = ds[1].encode('utf-8')\n",
    "    ds[2] = ds[2].encode('utf-8')\n",
    "    \n",
    "    for i in xrange(3,27):\n",
    "        try:\n",
    "            ds[i] = int(ds[i]) if ds[i] != '' and ds[i] != 'NA' else 0\n",
    "        except ValueError:\n",
    "            print ds\n",
    "    return ds"
   ]
  },
  {
   "cell_type": "code",
   "execution_count": 18,
   "metadata": {
    "collapsed": false,
    "deletable": true,
    "editable": true
   },
   "outputs": [],
   "source": [
    "finalheader = [\"fecha_dato\",\"ncodpers\",\"fecha_alta\",\"ind_ahor_fin_ult1\",\"ind_aval_fin_ult1\",\n",
    "               \"ind_cco_fin_ult1\",\"ind_cder_fin_ult1\",\"ind_cno_fin_ult1\",\"ind_ctju_fin_ult1\",\n",
    "               \"ind_ctma_fin_ult1\",\"ind_ctop_fin_ult1\",\"ind_ctpp_fin_ult1\",\"ind_deco_fin_ult1\",\n",
    "               \"ind_deme_fin_ult1\",\"ind_dela_fin_ult1\",\"ind_ecue_fin_ult1\",\"ind_fond_fin_ult1\",\n",
    "               \"ind_hip_fin_ult1\",\"ind_plan_fin_ult1\",\"ind_pres_fin_ult1\",\"ind_reca_fin_ult1\",\n",
    "               \"ind_tjcr_fin_ult1\",\"ind_valo_fin_ult1\",\"ind_viv_fin_ult1\",\"ind_nomina_ult1\",\n",
    "               \"ind_nom_pens_ult1\",\"ind_recibo_ult1\"]"
   ]
  },
  {
   "cell_type": "code",
   "execution_count": 21,
   "metadata": {
    "collapsed": true,
    "deletable": true,
    "editable": true
   },
   "outputs": [],
   "source": [
    "def operate_field_code():\n",
    "    print \"StructField(\\'\" + finalheader[0] + \"\\', StringType(), False),\"\n",
    "    print \"StructField(\\'\" + finalheader[1] + \"\\', StringType(), False),\"\n",
    "    print \"StructField(\\'\" + finalheader[2] + \"\\', StringType(), False),\"\n",
    "    \n",
    "    for i in xrange(3, len(finalheader)):\n",
    "        if i != len(finalheader) - 1:\n",
    "            print \"StructField(\\'\" + finalheader[i] + \"\\', IntegerType(), False),\"\n",
    "        else:\n",
    "            print \"StructField(\\'\" + finalheader[i] + \"\\', IntegerType(), False)\""
   ]
  },
  {
   "cell_type": "code",
   "execution_count": 22,
   "metadata": {
    "collapsed": false,
    "deletable": true,
    "editable": true,
    "scrolled": false
   },
   "outputs": [
    {
     "name": "stdout",
     "output_type": "stream",
     "text": [
      "StructField('fecha_dato', StringType(), False),\n",
      "StructField('ncodpers', StringType(), False),\n",
      "StructField('fecha_alta', StringType(), False),\n",
      "StructField('ind_ahor_fin_ult1', IntegerType(), False),\n",
      "StructField('ind_aval_fin_ult1', IntegerType(), False),\n",
      "StructField('ind_cco_fin_ult1', IntegerType(), False),\n",
      "StructField('ind_cder_fin_ult1', IntegerType(), False),\n",
      "StructField('ind_cno_fin_ult1', IntegerType(), False),\n",
      "StructField('ind_ctju_fin_ult1', IntegerType(), False),\n",
      "StructField('ind_ctma_fin_ult1', IntegerType(), False),\n",
      "StructField('ind_ctop_fin_ult1', IntegerType(), False),\n",
      "StructField('ind_ctpp_fin_ult1', IntegerType(), False),\n",
      "StructField('ind_deco_fin_ult1', IntegerType(), False),\n",
      "StructField('ind_deme_fin_ult1', IntegerType(), False),\n",
      "StructField('ind_dela_fin_ult1', IntegerType(), False),\n",
      "StructField('ind_ecue_fin_ult1', IntegerType(), False),\n",
      "StructField('ind_fond_fin_ult1', IntegerType(), False),\n",
      "StructField('ind_hip_fin_ult1', IntegerType(), False),\n",
      "StructField('ind_plan_fin_ult1', IntegerType(), False),\n",
      "StructField('ind_pres_fin_ult1', IntegerType(), False),\n",
      "StructField('ind_reca_fin_ult1', IntegerType(), False),\n",
      "StructField('ind_tjcr_fin_ult1', IntegerType(), False),\n",
      "StructField('ind_valo_fin_ult1', IntegerType(), False),\n",
      "StructField('ind_viv_fin_ult1', IntegerType(), False),\n",
      "StructField('ind_nomina_ult1', IntegerType(), False),\n",
      "StructField('ind_nom_pens_ult1', IntegerType(), False),\n",
      "StructField('ind_recibo_ult1', IntegerType(), False)\n"
     ]
    }
   ],
   "source": [
    "operate_field_code()"
   ]
  },
  {
   "cell_type": "code",
   "execution_count": 20,
   "metadata": {
    "collapsed": true,
    "deletable": true,
    "editable": true
   },
   "outputs": [],
   "source": [
    "from pyspark.sql.types import *"
   ]
  },
  {
   "cell_type": "code",
   "execution_count": 23,
   "metadata": {
    "collapsed": false,
    "deletable": true,
    "editable": true
   },
   "outputs": [],
   "source": [
    "finaldatafield = [\n",
    "    StructField('fecha_dato', StringType(), False),\n",
    "    StructField('ncodpers', StringType(), False),\n",
    "    StructField('fecha_alta', StringType(), False),\n",
    "    StructField('ind_ahor_fin_ult1', IntegerType(), False),\n",
    "    StructField('ind_aval_fin_ult1', IntegerType(), False),\n",
    "    StructField('ind_cco_fin_ult1', IntegerType(), False),\n",
    "    StructField('ind_cder_fin_ult1', IntegerType(), False),\n",
    "    StructField('ind_cno_fin_ult1', IntegerType(), False),\n",
    "    StructField('ind_ctju_fin_ult1', IntegerType(), False),\n",
    "    StructField('ind_ctma_fin_ult1', IntegerType(), False),\n",
    "    StructField('ind_ctop_fin_ult1', IntegerType(), False),\n",
    "    StructField('ind_ctpp_fin_ult1', IntegerType(), False),\n",
    "    StructField('ind_deco_fin_ult1', IntegerType(), False),\n",
    "    StructField('ind_deme_fin_ult1', IntegerType(), False),\n",
    "    StructField('ind_dela_fin_ult1', IntegerType(), False),\n",
    "    StructField('ind_ecue_fin_ult1', IntegerType(), False),\n",
    "    StructField('ind_fond_fin_ult1', IntegerType(), False),\n",
    "    StructField('ind_hip_fin_ult1', IntegerType(), False),\n",
    "    StructField('ind_plan_fin_ult1', IntegerType(), False),\n",
    "    StructField('ind_pres_fin_ult1', IntegerType(), False),\n",
    "    StructField('ind_reca_fin_ult1', IntegerType(), False),\n",
    "    StructField('ind_tjcr_fin_ult1', IntegerType(), False),\n",
    "    StructField('ind_valo_fin_ult1', IntegerType(), False),\n",
    "    StructField('ind_viv_fin_ult1', IntegerType(), False),\n",
    "    StructField('ind_nomina_ult1', IntegerType(), False),\n",
    "    StructField('ind_nom_pens_ult1', IntegerType(), False),\n",
    "    StructField('ind_recibo_ult1', IntegerType(), False)\n",
    "]"
   ]
  },
  {
   "cell_type": "code",
   "execution_count": 24,
   "metadata": {
    "collapsed": true,
    "deletable": true,
    "editable": true
   },
   "outputs": [],
   "source": [
    "finalschema = StructType(finaldatafield)"
   ]
  },
  {
   "cell_type": "code",
   "execution_count": 28,
   "metadata": {
    "collapsed": false,
    "deletable": true,
    "editable": true,
    "scrolled": false
   },
   "outputs": [
    {
     "name": "stdout",
     "output_type": "stream",
     "text": [
      "+----------+--------+----------+-----------------+-----------------+----------------+-----------------+----------------+-----------------+-----------------+-----------------+-----------------+-----------------+-----------------+-----------------+-----------------+-----------------+----------------+-----------------+-----------------+-----------------+-----------------+-----------------+----------------+---------------+-----------------+---------------+\n",
      "|fecha_dato|ncodpers|fecha_alta|ind_ahor_fin_ult1|ind_aval_fin_ult1|ind_cco_fin_ult1|ind_cder_fin_ult1|ind_cno_fin_ult1|ind_ctju_fin_ult1|ind_ctma_fin_ult1|ind_ctop_fin_ult1|ind_ctpp_fin_ult1|ind_deco_fin_ult1|ind_deme_fin_ult1|ind_dela_fin_ult1|ind_ecue_fin_ult1|ind_fond_fin_ult1|ind_hip_fin_ult1|ind_plan_fin_ult1|ind_pres_fin_ult1|ind_reca_fin_ult1|ind_tjcr_fin_ult1|ind_valo_fin_ult1|ind_viv_fin_ult1|ind_nomina_ult1|ind_nom_pens_ult1|ind_recibo_ult1|\n",
      "+----------+--------+----------+-----------------+-----------------+----------------+-----------------+----------------+-----------------+-----------------+-----------------+-----------------+-----------------+-----------------+-----------------+-----------------+-----------------+----------------+-----------------+-----------------+-----------------+-----------------+-----------------+----------------+---------------+-----------------+---------------+\n",
      "|2015-01-28| 1375586|2015-01-12|                0|                0|               1|                0|               0|                0|                0|                0|                0|                0|                0|                0|                0|                0|               0|                0|                0|                0|                0|                0|               0|              0|                0|              0|\n",
      "|2015-01-28| 1050611|2012-08-10|                0|                0|               1|                0|               0|                0|                0|                0|                0|                0|                0|                0|                0|                0|               0|                0|                0|                0|                0|                0|               0|              0|                0|              0|\n",
      "|2015-01-28| 1050612|2012-08-10|                0|                0|               1|                0|               0|                0|                0|                0|                0|                0|                0|                0|                0|                0|               0|                0|                0|                0|                0|                0|               0|              0|                0|              0|\n",
      "+----------+--------+----------+-----------------+-----------------+----------------+-----------------+----------------+-----------------+-----------------+-----------------+-----------------+-----------------+-----------------+-----------------+-----------------+-----------------+----------------+-----------------+-----------------+-----------------+-----------------+-----------------+----------------+---------------+-----------------+---------------+\n",
      "only showing top 3 rows\n",
      "\n"
     ]
    }
   ],
   "source": [
    "finaldata_df = dataRDD.map(data_cleaning_ver2).toDF(schema=finalschema)\n",
    "\n",
    "finaldata_df.show(3)"
   ]
  },
  {
   "cell_type": "code",
   "execution_count": 29,
   "metadata": {
    "collapsed": false,
    "deletable": true,
    "editable": true,
    "scrolled": false
   },
   "outputs": [
    {
     "name": "stdout",
     "output_type": "stream",
     "text": [
      "+--------+\n",
      "|ncodpers|\n",
      "+--------+\n",
      "| 1375586|\n",
      "| 1050611|\n",
      "| 1050612|\n",
      "| 1050613|\n",
      "| 1050614|\n",
      "| 1050615|\n",
      "| 1050616|\n",
      "| 1050617|\n",
      "| 1050619|\n",
      "| 1050620|\n",
      "| 1050621|\n",
      "| 1050622|\n",
      "| 1050623|\n",
      "| 1050624|\n",
      "| 1050625|\n",
      "| 1050626|\n",
      "| 1050610|\n",
      "| 1050627|\n",
      "| 1050609|\n",
      "| 1050605|\n",
      "+--------+\n",
      "only showing top 20 rows\n",
      "\n"
     ]
    }
   ],
   "source": [
    "jandata_df = finaldata_df.select('ncodpers').show()"
   ]
  },
  {
   "cell_type": "code",
   "execution_count": 30,
   "metadata": {
    "collapsed": true
   },
   "outputs": [],
   "source": [
    "alloldmember_df = finaldata_df.filter(\"fecha_alta <= '2015-01-28'\")"
   ]
  },
  {
   "cell_type": "code",
   "execution_count": 42,
   "metadata": {
    "collapsed": false
   },
   "outputs": [
    {
     "name": "stdout",
     "output_type": "stream",
     "text": [
      "+----------+--------+----------+-----------------+-----------------+----------------+-----------------+----------------+-----------------+-----------------+-----------------+-----------------+-----------------+-----------------+-----------------+-----------------+-----------------+----------------+-----------------+-----------------+-----------------+-----------------+-----------------+----------------+---------------+-----------------+---------------+\n",
      "|fecha_dato|ncodpers|fecha_alta|ind_ahor_fin_ult1|ind_aval_fin_ult1|ind_cco_fin_ult1|ind_cder_fin_ult1|ind_cno_fin_ult1|ind_ctju_fin_ult1|ind_ctma_fin_ult1|ind_ctop_fin_ult1|ind_ctpp_fin_ult1|ind_deco_fin_ult1|ind_deme_fin_ult1|ind_dela_fin_ult1|ind_ecue_fin_ult1|ind_fond_fin_ult1|ind_hip_fin_ult1|ind_plan_fin_ult1|ind_pres_fin_ult1|ind_reca_fin_ult1|ind_tjcr_fin_ult1|ind_valo_fin_ult1|ind_viv_fin_ult1|ind_nomina_ult1|ind_nom_pens_ult1|ind_recibo_ult1|\n",
      "+----------+--------+----------+-----------------+-----------------+----------------+-----------------+----------------+-----------------+-----------------+-----------------+-----------------+-----------------+-----------------+-----------------+-----------------+-----------------+----------------+-----------------+-----------------+-----------------+-----------------+-----------------+----------------+---------------+-----------------+---------------+\n",
      "|2015-02-28|  545090|2005-08-02|                0|                0|               1|                0|               0|                0|                0|                0|                0|                0|                0|                0|                0|                0|               0|                0|                0|                0|                0|                0|               0|              0|                0|              0|\n",
      "|2015-02-28|  545106|2005-08-30|                0|                0|               0|                0|               0|                0|                0|                0|                0|                0|                0|                0|                0|                0|               0|                0|                0|                0|                1|                0|               0|              0|                0|              0|\n",
      "|2015-02-28|  545103|2005-08-02|                0|                0|               1|                0|               0|                0|                0|                0|                0|                0|                0|                0|                0|                0|               0|                0|                0|                0|                0|                0|               0|              0|                0|              0|\n",
      "|2015-02-28|  545102|2005-08-02|                0|                0|               1|                0|               0|                0|                0|                0|                0|                0|                0|                0|                0|                0|               0|                0|                0|                0|                0|                0|               0|              0|                0|              0|\n",
      "|2015-02-28|  545101|2005-08-02|                0|                0|               1|                0|               0|                0|                0|                0|                1|                0|                0|                0|                0|                0|               0|                0|                0|                0|                0|                0|               0|              0|                0|              0|\n",
      "|2015-02-28|  545158|2005-08-03|                0|                0|               1|                0|               0|                0|                0|                0|                0|                0|                0|                0|                0|                0|               0|                0|                1|                0|                0|                0|               0|              0|                0|              0|\n",
      "|2015-02-28|  545100|2005-08-02|                0|                0|               0|                0|               0|                0|                0|                0|                0|                0|                0|                0|                0|                0|               1|                1|                0|                0|                1|                0|               0|              1|                1|              1|\n",
      "|2015-02-28|  545099|2005-08-02|                0|                0|               1|                0|               0|                0|                0|                0|                0|                0|                0|                0|                0|                0|               0|                0|                0|                0|                0|                0|               0|              0|                0|              0|\n",
      "|2015-02-28|  545092|2005-08-02|                0|                0|               1|                0|               0|                0|                0|                0|                0|                0|                0|                1|                0|                0|               0|                0|                0|                0|                0|                0|               0|              0|                0|              0|\n",
      "|2015-02-28|  545091|2005-08-02|                0|                0|               0|                0|               1|                0|                0|                1|                0|                0|                0|                0|                0|                0|               0|                0|                0|                0|                1|                0|               0|              1|                1|              1|\n",
      "|2015-02-28|  545098|2005-08-02|                0|                0|               1|                0|               0|                0|                0|                0|                0|                0|                0|                0|                0|                0|               0|                0|                0|                0|                0|                0|               0|              0|                0|              0|\n",
      "|2015-02-28|  545086|2005-08-02|                0|                0|               1|                0|               0|                0|                0|                0|                0|                0|                0|                0|                0|                0|               0|                0|                0|                1|                0|                0|               0|              0|                0|              1|\n",
      "|2015-02-28|  545093|2005-10-10|                0|                0|               1|                0|               0|                0|                0|                0|                0|                0|                0|                0|                0|                0|               0|                0|                0|                0|                0|                0|               0|              0|                0|              0|\n",
      "|2015-02-28|  545107|2005-08-02|                0|                0|               1|                0|               0|                0|                0|                0|                0|                0|                0|                0|                0|                0|               0|                0|                0|                0|                0|                0|               0|              0|                0|              0|\n",
      "|2015-02-28|  545123|2005-08-02|                0|                0|               1|                0|               0|                0|                0|                0|                0|                0|                0|                0|                0|                0|               0|                0|                0|                0|                0|                0|               0|              0|                0|              0|\n",
      "|2015-02-28|  545110|2005-08-02|                0|                0|               1|                0|               0|                0|                0|                0|                0|                0|                0|                0|                0|                0|               0|                0|                0|                0|                0|                0|               0|              0|                0|              0|\n",
      "|2015-02-28|  545163|2005-08-03|                0|                0|               1|                0|               0|                0|                0|                0|                0|                0|                0|                0|                0|                0|               0|                0|                0|                0|                0|                0|               0|              0|                0|              0|\n",
      "|2015-02-28|  545148|2005-08-02|                0|                0|               1|                0|               0|                0|                0|                0|                0|                0|                0|                0|                0|                0|               0|                0|                0|                0|                0|                0|               1|              0|                0|              0|\n",
      "|2015-02-28|  545146|2005-08-02|                0|                0|               1|                0|               0|                0|                0|                1|                0|                0|                0|                0|                0|                0|               0|                0|                0|                0|                0|                0|               0|              0|                0|              0|\n",
      "|2015-02-28|  545130|2005-08-02|                0|                0|               1|                0|               0|                0|                0|                0|                0|                0|                0|                0|                0|                0|               0|                0|                0|                0|                0|                0|               0|              0|                0|              0|\n",
      "+----------+--------+----------+-----------------+-----------------+----------------+-----------------+----------------+-----------------+-----------------+-----------------+-----------------+-----------------+-----------------+-----------------+-----------------+-----------------+----------------+-----------------+-----------------+-----------------+-----------------+-----------------+----------------+---------------+-----------------+---------------+\n",
      "only showing top 20 rows\n",
      "\n"
     ]
    }
   ],
   "source": [
    "alloldmember_df.select('*').filter(\"fecha_dato != '2015-01-28'\").show()"
   ]
  },
  {
   "cell_type": "code",
   "execution_count": 31,
   "metadata": {
    "collapsed": false
   },
   "outputs": [
    {
     "data": {
      "text/plain": [
       "12447067"
      ]
     },
     "execution_count": 31,
     "metadata": {},
     "output_type": "execute_result"
    }
   ],
   "source": [
    "alloldmember_df.count()"
   ]
  },
  {
   "cell_type": "code",
   "execution_count": 32,
   "metadata": {
    "collapsed": true
   },
   "outputs": [],
   "source": [
    "alloldnum = _"
   ]
  },
  {
   "cell_type": "code",
   "execution_count": 33,
   "metadata": {
    "collapsed": false,
    "deletable": true,
    "editable": true
   },
   "outputs": [],
   "source": [
    "jandata_df = finaldata_df.select('ncodpers').where(finaldata_df['fecha_dato'] == '2015-01-28')"
   ]
  },
  {
   "cell_type": "code",
   "execution_count": 34,
   "metadata": {
    "collapsed": false,
    "deletable": true,
    "editable": true
   },
   "outputs": [],
   "source": [
    "# jandata_df.count()"
   ]
  },
  {
   "cell_type": "code",
   "execution_count": 35,
   "metadata": {
    "collapsed": true,
    "deletable": true,
    "editable": true
   },
   "outputs": [],
   "source": [
    "jandanum = 625457"
   ]
  },
  {
   "cell_type": "code",
   "execution_count": 39,
   "metadata": {
    "collapsed": false
   },
   "outputs": [
    {
     "data": {
      "text/plain": [
       "563384"
      ]
     },
     "execution_count": 39,
     "metadata": {},
     "output_type": "execute_result"
    }
   ],
   "source": [
    "alloldnum % jandanum"
   ]
  },
  {
   "cell_type": "code",
   "execution_count": null,
   "metadata": {
    "collapsed": true
   },
   "outputs": [],
   "source": []
  },
  {
   "cell_type": "code",
   "execution_count": 28,
   "metadata": {
    "collapsed": false,
    "deletable": true,
    "editable": true
   },
   "outputs": [],
   "source": [
    "janalldata_df = finaldata_df.select('*').filter(\"fecha_dato = '2015-01-28'\")"
   ]
  },
  {
   "cell_type": "code",
   "execution_count": 29,
   "metadata": {
    "collapsed": false,
    "deletable": true,
    "editable": true
   },
   "outputs": [
    {
     "name": "stdout",
     "output_type": "stream",
     "text": [
      "+----------+--------+-----------------+-----------------+----------------+-----------------+----------------+-----------------+-----------------+-----------------+-----------------+-----------------+-----------------+-----------------+-----------------+-----------------+----------------+-----------------+-----------------+-----------------+-----------------+-----------------+----------------+---------------+-----------------+---------------+\n",
      "|fecha_dato|ncodpers|ind_ahor_fin_ult1|ind_aval_fin_ult1|ind_cco_fin_ult1|ind_cder_fin_ult1|ind_cno_fin_ult1|ind_ctju_fin_ult1|ind_ctma_fin_ult1|ind_ctop_fin_ult1|ind_ctpp_fin_ult1|ind_deco_fin_ult1|ind_deme_fin_ult1|ind_dela_fin_ult1|ind_ecue_fin_ult1|ind_fond_fin_ult1|ind_hip_fin_ult1|ind_plan_fin_ult1|ind_pres_fin_ult1|ind_reca_fin_ult1|ind_tjcr_fin_ult1|ind_valo_fin_ult1|ind_viv_fin_ult1|ind_nomina_ult1|ind_nom_pens_ult1|ind_recibo_ult1|\n",
      "+----------+--------+-----------------+-----------------+----------------+-----------------+----------------+-----------------+-----------------+-----------------+-----------------+-----------------+-----------------+-----------------+-----------------+-----------------+----------------+-----------------+-----------------+-----------------+-----------------+-----------------+----------------+---------------+-----------------+---------------+\n",
      "|2015-01-28| 1375586|                0|                0|               1|                0|               0|                0|                0|                0|                0|                0|                0|                0|                0|                0|               0|                0|                0|                0|                0|                0|               0|              0|                0|              0|\n",
      "|2015-01-28| 1050611|                0|                0|               1|                0|               0|                0|                0|                0|                0|                0|                0|                0|                0|                0|               0|                0|                0|                0|                0|                0|               0|              0|                0|              0|\n",
      "|2015-01-28| 1050612|                0|                0|               1|                0|               0|                0|                0|                0|                0|                0|                0|                0|                0|                0|               0|                0|                0|                0|                0|                0|               0|              0|                0|              0|\n",
      "+----------+--------+-----------------+-----------------+----------------+-----------------+----------------+-----------------+-----------------+-----------------+-----------------+-----------------+-----------------+-----------------+-----------------+-----------------+----------------+-----------------+-----------------+-----------------+-----------------+-----------------+----------------+---------------+-----------------+---------------+\n",
      "only showing top 3 rows\n",
      "\n"
     ]
    }
   ],
   "source": [
    "janalldata_df.show(3)"
   ]
  },
  {
   "cell_type": "code",
   "execution_count": 30,
   "metadata": {
    "collapsed": true,
    "deletable": true,
    "editable": true
   },
   "outputs": [],
   "source": [
    "janalldata_df.registerTempTable('January')\n",
    "finaldata_df.registerTempTable('final')"
   ]
  },
  {
   "cell_type": "code",
   "execution_count": 37,
   "metadata": {
    "collapsed": false,
    "deletable": true,
    "editable": true
   },
   "outputs": [],
   "source": [
    "distinctdf = sqlContext.sql(\n",
    "                \"\"\"\n",
    "                    SELECT j.*\n",
    "                    FROM January j\n",
    "                    LEFT JOIN final f\n",
    "                    WHERE j.ncodpers = f.ncodpers\n",
    "                    ORDER BY j.ncodpers\n",
    "                \"\"\")"
   ]
  },
  {
   "cell_type": "code",
   "execution_count": 38,
   "metadata": {
    "collapsed": false,
    "deletable": true,
    "editable": true
   },
   "outputs": [
    {
     "name": "stdout",
     "output_type": "stream",
     "text": [
      "+----------+--------+-----------------+-----------------+----------------+-----------------+----------------+-----------------+-----------------+-----------------+-----------------+-----------------+-----------------+-----------------+-----------------+-----------------+----------------+-----------------+-----------------+-----------------+-----------------+-----------------+----------------+---------------+-----------------+---------------+\n",
      "|fecha_dato|ncodpers|ind_ahor_fin_ult1|ind_aval_fin_ult1|ind_cco_fin_ult1|ind_cder_fin_ult1|ind_cno_fin_ult1|ind_ctju_fin_ult1|ind_ctma_fin_ult1|ind_ctop_fin_ult1|ind_ctpp_fin_ult1|ind_deco_fin_ult1|ind_deme_fin_ult1|ind_dela_fin_ult1|ind_ecue_fin_ult1|ind_fond_fin_ult1|ind_hip_fin_ult1|ind_plan_fin_ult1|ind_pres_fin_ult1|ind_reca_fin_ult1|ind_tjcr_fin_ult1|ind_valo_fin_ult1|ind_viv_fin_ult1|ind_nomina_ult1|ind_nom_pens_ult1|ind_recibo_ult1|\n",
      "+----------+--------+-----------------+-----------------+----------------+-----------------+----------------+-----------------+-----------------+-----------------+-----------------+-----------------+-----------------+-----------------+-----------------+-----------------+----------------+-----------------+-----------------+-----------------+-----------------+-----------------+----------------+---------------+-----------------+---------------+\n",
      "|2015-01-28| 1000002|                0|                0|               1|                0|               0|                0|                0|                0|                0|                0|                0|                0|                1|                0|               0|                0|                0|                1|                0|                1|               0|              0|                0|              0|\n",
      "|2015-01-28| 1000002|                0|                0|               1|                0|               0|                0|                0|                0|                0|                0|                0|                0|                1|                0|               0|                0|                0|                1|                0|                1|               0|              0|                0|              0|\n",
      "|2015-01-28| 1000002|                0|                0|               1|                0|               0|                0|                0|                0|                0|                0|                0|                0|                1|                0|               0|                0|                0|                1|                0|                1|               0|              0|                0|              0|\n",
      "|2015-01-28| 1000002|                0|                0|               1|                0|               0|                0|                0|                0|                0|                0|                0|                0|                1|                0|               0|                0|                0|                1|                0|                1|               0|              0|                0|              0|\n",
      "|2015-01-28| 1000002|                0|                0|               1|                0|               0|                0|                0|                0|                0|                0|                0|                0|                1|                0|               0|                0|                0|                1|                0|                1|               0|              0|                0|              0|\n",
      "+----------+--------+-----------------+-----------------+----------------+-----------------+----------------+-----------------+-----------------+-----------------+-----------------+-----------------+-----------------+-----------------+-----------------+-----------------+----------------+-----------------+-----------------+-----------------+-----------------+-----------------+----------------+---------------+-----------------+---------------+\n",
      "only showing top 5 rows\n",
      "\n",
      "1540.00215316\n"
     ]
    }
   ],
   "source": [
    "import time\n",
    "\n",
    "starttime = time.time()\n",
    "\n",
    "distinctdf.show(5)\n",
    "\n",
    "print time.time() - starttime"
   ]
  },
  {
   "cell_type": "code",
   "execution_count": null,
   "metadata": {
    "collapsed": true,
    "deletable": true,
    "editable": true
   },
   "outputs": [],
   "source": []
  }
 ],
 "metadata": {
  "kernelspec": {
   "display_name": "Python 2",
   "language": "python",
   "name": "python2"
  },
  "language_info": {
   "codemirror_mode": {
    "name": "ipython",
    "version": 2
   },
   "file_extension": ".py",
   "mimetype": "text/x-python",
   "name": "python",
   "nbconvert_exporter": "python",
   "pygments_lexer": "ipython2",
   "version": "2.7.13"
  }
 },
 "nbformat": 4,
 "nbformat_minor": 2
}
