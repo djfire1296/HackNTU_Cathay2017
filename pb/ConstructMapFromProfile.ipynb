{
 "cells": [
  {
   "cell_type": "markdown",
   "metadata": {
    "deletable": true,
    "editable": true
   },
   "source": [
    "<style>\n",
    "    .ul{\n",
    "        line-height: 250%;\n",
    "    }\n",
    "</style>\n",
    "\n",
    "<font size=\"4\">\n",
    "    <ul>\n",
    "        <li> calculate age by birth_time </li>\n",
    "        <li> check is any people move contact_loc </li>\n",
    "    </ul>\n",
    "</font>\n"
   ]
  },
  {
   "cell_type": "code",
   "execution_count": 1,
   "metadata": {
    "collapsed": true,
    "deletable": true,
    "editable": true
   },
   "outputs": [],
   "source": [
    "# basic libraries\n",
    "import os\n",
    "import math\n",
    "\n",
    "import numpy as np\n",
    "import pandas as pd\n",
    "import matplotlib.pylab as plt"
   ]
  },
  {
   "cell_type": "code",
   "execution_count": 2,
   "metadata": {
    "collapsed": true,
    "deletable": true,
    "editable": true
   },
   "outputs": [],
   "source": [
    "# pyspark related\n",
    "from pyspark import SparkContext\n",
    "from pyspark import SparkConf"
   ]
  },
  {
   "cell_type": "code",
   "execution_count": 3,
   "metadata": {
    "collapsed": false,
    "deletable": true,
    "editable": true
   },
   "outputs": [],
   "source": [
    "sc = SparkContext('local[*]', 'PySpark')"
   ]
  },
  {
   "cell_type": "code",
   "execution_count": 4,
   "metadata": {
    "collapsed": true,
    "deletable": true,
    "editable": true
   },
   "outputs": [],
   "source": [
    "# spark sql related\n",
    "from pyspark.sql import DataFrameWriter\n",
    "from pyspark.sql import SQLContext\n",
    "sqlContext = SQLContext(sc)\n",
    "sql = sqlContext.sql"
   ]
  },
  {
   "cell_type": "code",
   "execution_count": 5,
   "metadata": {
    "collapsed": false,
    "deletable": true,
    "editable": true
   },
   "outputs": [
    {
     "data": {
      "text/plain": [
       "u'local[*]'"
      ]
     },
     "execution_count": 5,
     "metadata": {},
     "output_type": "execute_result"
    }
   ],
   "source": [
    "sc.master"
   ]
  },
  {
   "cell_type": "code",
   "execution_count": null,
   "metadata": {
    "collapsed": true,
    "deletable": true,
    "editable": true
   },
   "outputs": [],
   "source": []
  },
  {
   "cell_type": "markdown",
   "metadata": {
    "collapsed": true,
    "deletable": true,
    "editable": true
   },
   "source": [
    "<h1> Read Profile </h1>"
   ]
  },
  {
   "cell_type": "code",
   "execution_count": 6,
   "metadata": {
    "collapsed": true,
    "deletable": true,
    "editable": true
   },
   "outputs": [],
   "source": [
    "profile_path = os.path.abspath('../dataset/profile/**/*.csv')"
   ]
  },
  {
   "cell_type": "code",
   "execution_count": 7,
   "metadata": {
    "collapsed": false,
    "deletable": true,
    "editable": true
   },
   "outputs": [
    {
     "data": {
      "text/plain": [
       "[u'1,1871111837,F,D,181903,F,373933,3320438400,1217.1769900503969,528.7309192220683,Y,Y,N,N,3696969600',\n",
       " u'2,1208855837,M,C,68383,F,72631,3688502400,1717.8806412199986,3.3682296721720717,Y,N,Y,N,3696969600',\n",
       " u'3,2880263837,M,E,457653,F,93331,3692304000,1216.7107394786008,307.4304767295353,N,N,N,Y,3696969600',\n",
       " u'4,1334999837,M,L,74257,I,248503,3647980800,1414.86660231857,888.3791238333672,Y,N,N,Y,3696969600',\n",
       " u'5,2817191837,F,A,45583,I,895863,3622406400,1388.8557936778625,642.1109125464978,Y,Y,N,Y,3696969600']"
      ]
     },
     "execution_count": 7,
     "metadata": {},
     "output_type": "execute_result"
    }
   ],
   "source": [
    "profile_txtRDD = sc.textFile(profile_path)\n",
    "profile_txtRDD.take(5)"
   ]
  },
  {
   "cell_type": "code",
   "execution_count": 8,
   "metadata": {
    "collapsed": false,
    "deletable": true,
    "editable": true
   },
   "outputs": [
    {
     "data": {
      "text/plain": [
       "100"
      ]
     },
     "execution_count": 8,
     "metadata": {},
     "output_type": "execute_result"
    }
   ],
   "source": [
    "profile_txtRDD.count()"
   ]
  },
  {
   "cell_type": "code",
   "execution_count": 9,
   "metadata": {
    "collapsed": false,
    "deletable": true,
    "editable": true
   },
   "outputs": [
    {
     "name": "stdout",
     "output_type": "stream",
     "text": [
      "100\n"
     ]
    }
   ],
   "source": [
    "profiletxtnum = _\n",
    "print profiletxtnum"
   ]
  },
  {
   "cell_type": "code",
   "execution_count": 10,
   "metadata": {
    "collapsed": true,
    "deletable": true,
    "editable": true
   },
   "outputs": [],
   "source": [
    "from pyspark.sql.types import *"
   ]
  },
  {
   "cell_type": "code",
   "execution_count": 11,
   "metadata": {
    "collapsed": true,
    "deletable": true,
    "editable": true
   },
   "outputs": [],
   "source": [
    "# field of profile\n",
    "profilefields = [\n",
    "    StructField('customer_id', StringType(), False),\n",
    "    StructField('birth_time', LongType(), True),\n",
    "    StructField('gender', StringType(), True),\n",
    "    StructField('contact_loc', StringType(), True),\n",
    "    StructField('contact_code', StringType(), True),\n",
    "    StructField('register_loc', StringType(), True),\n",
    "    StructField('register_code', StringType(), True),\n",
    "    StructField('start_time', LongType(), True),\n",
    "    StructField('aum', DoubleType(), True),\n",
    "    StructField('net_profit', DoubleType(), True),\n",
    "    StructField('credit_card_flag', StringType(), True),\n",
    "    StructField('loan_flag', StringType(), True),\n",
    "    StructField('deposit_flag', StringType(), True),\n",
    "    StructField('wealth_flag', StringType(), True),\n",
    "    StructField('partition_time', LongType(), True)\n",
    "]"
   ]
  },
  {
   "cell_type": "code",
   "execution_count": 14,
   "metadata": {
    "collapsed": false,
    "deletable": true,
    "editable": true
   },
   "outputs": [],
   "source": [
    "# construct profile's schema\n",
    "profileschema = StructType(profilefields)"
   ]
  },
  {
   "cell_type": "code",
   "execution_count": 15,
   "metadata": {
    "collapsed": true,
    "deletable": true,
    "editable": true
   },
   "outputs": [],
   "source": [
    "def process_profile_line(l):\n",
    "    p = l.split(',')\n",
    "    # for LongType\n",
    "    for i in [1, 7, 14]:\n",
    "        p[i] = int(p[i])\n",
    "    # for DoubleType\n",
    "    for i in [8, 9]:\n",
    "        p[i] = float(p[i])\n",
    "    return p"
   ]
  },
  {
   "cell_type": "code",
   "execution_count": 16,
   "metadata": {
    "collapsed": false,
    "deletable": true,
    "editable": true
   },
   "outputs": [
    {
     "name": "stdout",
     "output_type": "stream",
     "text": [
      "+-----------+----------+------+-----------+------------+------------+-------------+----------+------------------+------------------+----------------+---------+------------+-----------+--------------+\n",
      "|customer_id|birth_time|gender|contact_loc|contact_code|register_loc|register_code|start_time|               aum|        net_profit|credit_card_flag|loan_flag|deposit_flag|wealth_flag|partition_time|\n",
      "+-----------+----------+------+-----------+------------+------------+-------------+----------+------------------+------------------+----------------+---------+------------+-----------+--------------+\n",
      "|          1|1871111837|     F|          D|      181903|           F|       373933|3320438400|1217.1769900503969| 528.7309192220683|               Y|        Y|           N|          N|    3696969600|\n",
      "|          2|1208855837|     M|          C|       68383|           F|        72631|3688502400|1717.8806412199986|3.3682296721720717|               Y|        N|           Y|          N|    3696969600|\n",
      "|          3|2880263837|     M|          E|      457653|           F|        93331|3692304000|1216.7107394786008| 307.4304767295353|               N|        N|           N|          Y|    3696969600|\n",
      "|          4|1334999837|     M|          L|       74257|           I|       248503|3647980800|  1414.86660231857| 888.3791238333672|               Y|        N|           N|          Y|    3696969600|\n",
      "|          5|2817191837|     F|          A|       45583|           I|       895863|3622406400|1388.8557936778625| 642.1109125464978|               Y|        Y|           N|          Y|    3696969600|\n",
      "+-----------+----------+------+-----------+------------+------------+-------------+----------+------------------+------------------+----------------+---------+------------+-----------+--------------+\n",
      "only showing top 5 rows\n",
      "\n"
     ]
    }
   ],
   "source": [
    "profile_df = profile_txtRDD \\\n",
    "                .map(process_profile_line) \\\n",
    "                .toDF(schema=profileschema)\n",
    "\n",
    "profile_df.show(5)"
   ]
  },
  {
   "cell_type": "code",
   "execution_count": null,
   "metadata": {
    "collapsed": true,
    "deletable": true,
    "editable": true
   },
   "outputs": [],
   "source": []
  },
  {
   "cell_type": "markdown",
   "metadata": {
    "deletable": true,
    "editable": true
   },
   "source": [
    "<h1> Construct The Map of Contact Location and Contact Code </h1>"
   ]
  },
  {
   "cell_type": "code",
   "execution_count": 44,
   "metadata": {
    "collapsed": true,
    "deletable": true,
    "editable": true
   },
   "outputs": [],
   "source": [
    "clRDD = profile_df.select('contact_loc')"
   ]
  },
  {
   "cell_type": "code",
   "execution_count": 45,
   "metadata": {
    "collapsed": true,
    "deletable": true,
    "editable": true
   },
   "outputs": [],
   "source": [
    "ccRDD = profile_df.select('contact_code')"
   ]
  },
  {
   "cell_type": "code",
   "execution_count": 46,
   "metadata": {
    "collapsed": true,
    "deletable": true,
    "editable": true
   },
   "outputs": [],
   "source": [
    "clccRDD = profile_df.select('contact_loc', 'contact_code')"
   ]
  },
  {
   "cell_type": "markdown",
   "metadata": {
    "deletable": true,
    "editable": true
   },
   "source": [
    "<h2> Calculate Numbers </h2>"
   ]
  },
  {
   "cell_type": "code",
   "execution_count": 29,
   "metadata": {
    "collapsed": false,
    "deletable": true,
    "editable": true
   },
   "outputs": [
    {
     "name": "stdout",
     "output_type": "stream",
     "text": [
      "total 11 different contact location\n"
     ]
    }
   ],
   "source": [
    "# clnum = clRDD.distinct().count()\n",
    "clnum = 11\n",
    "print \"total \" + str(clnum) + \" different contact location\""
   ]
  },
  {
   "cell_type": "code",
   "execution_count": 31,
   "metadata": {
    "collapsed": false,
    "deletable": true,
    "editable": true
   },
   "outputs": [
    {
     "name": "stdout",
     "output_type": "stream",
     "text": [
      "total 24 different contact code\n"
     ]
    }
   ],
   "source": [
    "# ccnum = ccRDD.distinct().count()\n",
    "clnum = 24\n",
    "print \"total \" + str(ccnum) + \" different contact code\""
   ]
  },
  {
   "cell_type": "code",
   "execution_count": 33,
   "metadata": {
    "collapsed": false,
    "deletable": true,
    "editable": true
   },
   "outputs": [
    {
     "name": "stdout",
     "output_type": "stream",
     "text": [
      "total 25 different pair of (location, code)\n"
     ]
    }
   ],
   "source": [
    "# clccnum = clccRDD.distinct().count()\n",
    "clccnum = 25\n",
    "print \"total \" + str(clccnum) + \" different pair of (location, code)\""
   ]
  },
  {
   "cell_type": "markdown",
   "metadata": {
    "deletable": true,
    "editable": true
   },
   "source": [
    "<h2> Breif Survey </h2>"
   ]
  },
  {
   "cell_type": "code",
   "execution_count": 47,
   "metadata": {
    "collapsed": true,
    "deletable": true,
    "editable": true
   },
   "outputs": [],
   "source": [
    "# calculate total amount of every location\n",
    "cal_clRDD = clRDD.rdd \\\n",
    "                .map(lambda c: (c.contact_loc, 1)) \\\n",
    "                .reduceByKey(lambda x, y: x+y) \\\n",
    "                .sortByKey()"
   ]
  },
  {
   "cell_type": "code",
   "execution_count": 48,
   "metadata": {
    "collapsed": true,
    "deletable": true,
    "editable": true
   },
   "outputs": [],
   "source": [
    "calcldict = cal_clRDD.collectAsMap()"
   ]
  },
  {
   "cell_type": "code",
   "execution_count": 51,
   "metadata": {
    "collapsed": false,
    "deletable": true,
    "editable": true
   },
   "outputs": [
    {
     "name": "stdout",
     "output_type": "stream",
     "text": [
      "{u'A': 4, u'C': 8, u'B': 6, u'E': 8, u'D': 8, u'G': 12, u'F': 4, u'H': 10, u'K': 8, u'J': 16, u'L': 16}\n"
     ]
    }
   ],
   "source": [
    "print calcldict"
   ]
  },
  {
   "cell_type": "code",
   "execution_count": null,
   "metadata": {
    "collapsed": true,
    "deletable": true,
    "editable": true
   },
   "outputs": [],
   "source": []
  },
  {
   "cell_type": "markdown",
   "metadata": {
    "deletable": true,
    "editable": true
   },
   "source": [
    "<h2> Check whether code is 1-1 to loc </h2>"
   ]
  },
  {
   "cell_type": "code",
   "execution_count": 22,
   "metadata": {
    "collapsed": false,
    "deletable": true,
    "editable": true
   },
   "outputs": [],
   "source": [
    "check_codeTolocRDD = clccRDD.rdd \\\n",
    "                        .map(lambda c: (c.contact_code, [c.contact_loc])) \\\n",
    "                        .reduceByKey(lambda x, y: x+y) \\\n",
    "                        .filter(lambda (x, y): len(y) > 1)"
   ]
  },
  {
   "cell_type": "code",
   "execution_count": 34,
   "metadata": {
    "collapsed": false,
    "deletable": true,
    "editable": true
   },
   "outputs": [
    {
     "name": "stdout",
     "output_type": "stream",
     "text": [
      "total 1 code have at least two location\n",
      "[(u'457653', [u'J', u'E'])]\n"
     ]
    }
   ],
   "source": [
    "# check = check_codeTolocRDD.count()\n",
    "check = 1\n",
    "\n",
    "if check == 0:\n",
    "    print \"1-1 checked\"\n",
    "else:\n",
    "    print \"total \" + str(check) + \" code have at least two location\"\n",
    "    print check_codeTolocRDD.take(5)"
   ]
  },
  {
   "cell_type": "markdown",
   "metadata": {
    "deletable": true,
    "editable": true
   },
   "source": [
    "<h2> Construct Map </h2>"
   ]
  },
  {
   "cell_type": "code",
   "execution_count": 37,
   "metadata": {
    "collapsed": true,
    "deletable": true,
    "editable": true
   },
   "outputs": [],
   "source": [
    "maplocTocodeRDD = clccRDD.rdd \\\n",
    "                    .map(lambda c: (c.contact_loc, [c.contact_code])) \\\n",
    "                    .reduceByKey(lambda x, y: x+y)"
   ]
  },
  {
   "cell_type": "code",
   "execution_count": 39,
   "metadata": {
    "collapsed": false,
    "deletable": true,
    "editable": true
   },
   "outputs": [],
   "source": [
    "maplocTocodedict = maplocTocodeRDD.collectAsMap()"
   ]
  },
  {
   "cell_type": "code",
   "execution_count": 43,
   "metadata": {
    "collapsed": false,
    "deletable": true,
    "editable": true
   },
   "outputs": [
    {
     "name": "stdout",
     "output_type": "stream",
     "text": [
      "A\n",
      "[u'45583']\n",
      "total 1 different code\n",
      "\n",
      "C\n",
      "[u'437583', u'68383']\n",
      "total 2 different code\n",
      "\n",
      "B\n",
      "[u'698061', u'115261']\n",
      "total 2 different code\n",
      "\n",
      "E\n",
      "[u'457653', u'468541']\n",
      "total 2 different code\n",
      "\n",
      "D\n",
      "[u'181903']\n",
      "total 1 different code\n",
      "\n",
      "G\n",
      "[u'230881', u'215761', u'180201']\n",
      "total 3 different code\n",
      "\n",
      "F\n",
      "[u'647221']\n",
      "total 1 different code\n",
      "\n",
      "H\n",
      "[u'530713', u'159601', u'922561']\n",
      "total 3 different code\n",
      "\n",
      "K\n",
      "[u'843643', u'109893']\n",
      "total 2 different code\n",
      "\n",
      "J\n",
      "[u'32581', u'457653', u'48181', u'124963']\n",
      "total 4 different code\n",
      "\n",
      "L\n",
      "[u'354621', u'358203', u'53593', u'74257']\n",
      "total 4 different code\n",
      "\n"
     ]
    }
   ],
   "source": [
    "for x in maplocTocodedict.keys():\n",
    "    print x\n",
    "    print maplocTocodedict[x]\n",
    "    print \"total \" + str(len(maplocTocodedict[x])) + \" different code\\n\""
   ]
  },
  {
   "cell_type": "code",
   "execution_count": 42,
   "metadata": {
    "collapsed": false,
    "deletable": true,
    "editable": true
   },
   "outputs": [
    {
     "name": "stdout",
     "output_type": "stream",
     "text": [
      "Final check complete!\n"
     ]
    }
   ],
   "source": [
    "# final check\n",
    "tol = 0\n",
    "for x in maplocTocodedict.keys():\n",
    "    tol += len(maplocTocodedict[x])\n",
    "\n",
    "if tol == clccnum:\n",
    "    print \"Final check complete!\"\n",
    "else:\n",
    "    print \"Something goes wrong! Check it again\""
   ]
  },
  {
   "cell_type": "code",
   "execution_count": null,
   "metadata": {
    "collapsed": true,
    "deletable": true,
    "editable": true
   },
   "outputs": [],
   "source": []
  },
  {
   "cell_type": "markdown",
   "metadata": {
    "deletable": true,
    "editable": true
   },
   "source": [
    "<h1> Check Migration </h1>"
   ]
  },
  {
   "cell_type": "code",
   "execution_count": 52,
   "metadata": {
    "collapsed": true,
    "deletable": true,
    "editable": true
   },
   "outputs": [],
   "source": [
    "idclRDD = profile_df.select('customer_id', 'contact_loc')"
   ]
  },
  {
   "cell_type": "code",
   "execution_count": null,
   "metadata": {
    "collapsed": true,
    "deletable": true,
    "editable": true
   },
   "outputs": [],
   "source": []
  }
 ],
 "metadata": {
  "kernelspec": {
   "display_name": "Python 2",
   "language": "python",
   "name": "python2"
  },
  "language_info": {
   "codemirror_mode": {
    "name": "ipython",
    "version": 2
   },
   "file_extension": ".py",
   "mimetype": "text/x-python",
   "name": "python",
   "nbconvert_exporter": "python",
   "pygments_lexer": "ipython2",
   "version": "2.7.13"
  }
 },
 "nbformat": 4,
 "nbformat_minor": 2
}
